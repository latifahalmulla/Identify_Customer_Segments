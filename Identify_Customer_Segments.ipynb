{
 "cells": [
  {
   "cell_type": "markdown",
   "metadata": {},
   "source": [
    "# Project: Identify Customer Segments\n",
    "\n",
    "In this project, you will apply unsupervised learning techniques to identify segments of the population that form the core customer base for a mail-order sales company in Germany. These segments can then be used to direct marketing campaigns towards audiences that will have the highest expected rate of returns. The data that you will use has been provided by our partners at Bertelsmann Arvato Analytics, and represents a real-life data science task.\n",
    "\n",
    "This notebook will help you complete this task by providing a framework within which you will perform your analysis steps. In each step of the project, you will see some text describing the subtask that you will perform, followed by one or more code cells for you to complete your work. **Feel free to add additional code and markdown cells as you go along so that you can explore everything in precise chunks.** The code cells provided in the base template will outline only the major tasks, and will usually not be enough to cover all of the minor tasks that comprise it.\n",
    "\n",
    "It should be noted that while there will be precise guidelines on how you should handle certain tasks in the project, there will also be places where an exact specification is not provided. **There will be times in the project where you will need to make and justify your own decisions on how to treat the data.** These are places where there may not be only one way to handle the data. In real-life tasks, there may be many valid ways to approach an analysis task. One of the most important things you can do is clearly document your approach so that other scientists can understand the decisions you've made.\n",
    "\n",
    "At the end of most sections, there will be a Markdown cell labeled **Discussion**. In these cells, you will report your findings for the completed section, as well as document the decisions that you made in your approach to each subtask. **Your project will be evaluated not just on the code used to complete the tasks outlined, but also your communication about your observations and conclusions at each stage.**"
   ]
  },
  {
   "cell_type": "code",
   "execution_count": 1,
   "metadata": {},
   "outputs": [
    {
     "data": {
      "text/plain": [
       "'\\nImport note: The classroom currently uses sklearn version 0.19.\\nIf you need to use an imputer, it is available in sklearn.preprocessing.Imputer,\\ninstead of sklearn.impute as in newer versions of sklearn.\\n'"
      ]
     },
     "execution_count": 1,
     "metadata": {},
     "output_type": "execute_result"
    }
   ],
   "source": [
    "# import libraries here; add more as necessary\n",
    "import numpy as np\n",
    "import pandas as pd\n",
    "import matplotlib.pyplot as plt\n",
    "import seaborn as sns\n",
    "\n",
    "# magic word for producing visualizations in notebook\n",
    "%matplotlib inline\n",
    "\n",
    "'''\n",
    "Import note: The classroom currently uses sklearn version 0.19.\n",
    "If you need to use an imputer, it is available in sklearn.preprocessing.Imputer,\n",
    "instead of sklearn.impute as in newer versions of sklearn.\n",
    "'''"
   ]
  },
  {
   "cell_type": "markdown",
   "metadata": {},
   "source": [
    "### Step 0: Load the Data\n",
    "\n",
    "There are four files associated with this project (not including this one):\n",
    "\n",
    "- `Udacity_AZDIAS_Subset.csv`: Demographics data for the general population of Germany; 891211 persons (rows) x 85 features (columns).\n",
    "- `Udacity_CUSTOMERS_Subset.csv`: Demographics data for customers of a mail-order company; 191652 persons (rows) x 85 features (columns).\n",
    "- `Data_Dictionary.md`: Detailed information file about the features in the provided datasets.\n",
    "- `AZDIAS_Feature_Summary.csv`: Summary of feature attributes for demographics data; 85 features (rows) x 4 columns\n",
    "\n",
    "Each row of the demographics files represents a single person, but also includes information outside of individuals, including information about their household, building, and neighborhood. You will use this information to cluster the general population into groups with similar demographic properties. Then, you will see how the people in the customers dataset fit into those created clusters. The hope here is that certain clusters are over-represented in the customers data, as compared to the general population; those over-represented clusters will be assumed to be part of the core userbase. This information can then be used for further applications, such as targeting for a marketing campaign.\n",
    "\n",
    "To start off with, load in the demographics data for the general population into a pandas DataFrame, and do the same for the feature attributes summary. Note for all of the `.csv` data files in this project: they're semicolon (`;`) delimited, so you'll need an additional argument in your [`read_csv()`](https://pandas.pydata.org/pandas-docs/stable/generated/pandas.read_csv.html) call to read in the data properly. Also, considering the size of the main dataset, it may take some time for it to load completely.\n",
    "\n",
    "Once the dataset is loaded, it's recommended that you take a little bit of time just browsing the general structure of the dataset and feature summary file. You'll be getting deep into the innards of the cleaning in the first major step of the project, so gaining some general familiarity can help you get your bearings."
   ]
  },
  {
   "cell_type": "code",
   "execution_count": 2,
   "metadata": {},
   "outputs": [],
   "source": [
    "# Load in the general demographics data.\n",
    "azdias = pd.read_csv('Udacity_AZDIAS_Subset.csv', sep=';')\n",
    "\n",
    "# Load in the feature summary file.\n",
    "feat_info = pd.read_csv(\"AZDIAS_Feature_Summary.csv\",sep=';')"
   ]
  },
  {
   "cell_type": "code",
   "execution_count": 3,
   "metadata": {},
   "outputs": [
    {
     "data": {
      "text/html": [
       "<div>\n",
       "<style scoped>\n",
       "    .dataframe tbody tr th:only-of-type {\n",
       "        vertical-align: middle;\n",
       "    }\n",
       "\n",
       "    .dataframe tbody tr th {\n",
       "        vertical-align: top;\n",
       "    }\n",
       "\n",
       "    .dataframe thead th {\n",
       "        text-align: right;\n",
       "    }\n",
       "</style>\n",
       "<table border=\"1\" class=\"dataframe\">\n",
       "  <thead>\n",
       "    <tr style=\"text-align: right;\">\n",
       "      <th></th>\n",
       "      <th>AGER_TYP</th>\n",
       "      <th>ALTERSKATEGORIE_GROB</th>\n",
       "      <th>ANREDE_KZ</th>\n",
       "      <th>CJT_GESAMTTYP</th>\n",
       "      <th>FINANZ_MINIMALIST</th>\n",
       "      <th>FINANZ_SPARER</th>\n",
       "      <th>FINANZ_VORSORGER</th>\n",
       "      <th>FINANZ_ANLEGER</th>\n",
       "      <th>FINANZ_UNAUFFAELLIGER</th>\n",
       "      <th>FINANZ_HAUSBAUER</th>\n",
       "      <th>...</th>\n",
       "      <th>PLZ8_ANTG1</th>\n",
       "      <th>PLZ8_ANTG2</th>\n",
       "      <th>PLZ8_ANTG3</th>\n",
       "      <th>PLZ8_ANTG4</th>\n",
       "      <th>PLZ8_BAUMAX</th>\n",
       "      <th>PLZ8_HHZ</th>\n",
       "      <th>PLZ8_GBZ</th>\n",
       "      <th>ARBEIT</th>\n",
       "      <th>ORTSGR_KLS9</th>\n",
       "      <th>RELAT_AB</th>\n",
       "    </tr>\n",
       "  </thead>\n",
       "  <tbody>\n",
       "    <tr>\n",
       "      <th>0</th>\n",
       "      <td>-1</td>\n",
       "      <td>2</td>\n",
       "      <td>1</td>\n",
       "      <td>2.0</td>\n",
       "      <td>3</td>\n",
       "      <td>4</td>\n",
       "      <td>3</td>\n",
       "      <td>5</td>\n",
       "      <td>5</td>\n",
       "      <td>3</td>\n",
       "      <td>...</td>\n",
       "      <td>NaN</td>\n",
       "      <td>NaN</td>\n",
       "      <td>NaN</td>\n",
       "      <td>NaN</td>\n",
       "      <td>NaN</td>\n",
       "      <td>NaN</td>\n",
       "      <td>NaN</td>\n",
       "      <td>NaN</td>\n",
       "      <td>NaN</td>\n",
       "      <td>NaN</td>\n",
       "    </tr>\n",
       "    <tr>\n",
       "      <th>1</th>\n",
       "      <td>-1</td>\n",
       "      <td>1</td>\n",
       "      <td>2</td>\n",
       "      <td>5.0</td>\n",
       "      <td>1</td>\n",
       "      <td>5</td>\n",
       "      <td>2</td>\n",
       "      <td>5</td>\n",
       "      <td>4</td>\n",
       "      <td>5</td>\n",
       "      <td>...</td>\n",
       "      <td>2.0</td>\n",
       "      <td>3.0</td>\n",
       "      <td>2.0</td>\n",
       "      <td>1.0</td>\n",
       "      <td>1.0</td>\n",
       "      <td>5.0</td>\n",
       "      <td>4.0</td>\n",
       "      <td>3.0</td>\n",
       "      <td>5.0</td>\n",
       "      <td>4.0</td>\n",
       "    </tr>\n",
       "    <tr>\n",
       "      <th>2</th>\n",
       "      <td>-1</td>\n",
       "      <td>3</td>\n",
       "      <td>2</td>\n",
       "      <td>3.0</td>\n",
       "      <td>1</td>\n",
       "      <td>4</td>\n",
       "      <td>1</td>\n",
       "      <td>2</td>\n",
       "      <td>3</td>\n",
       "      <td>5</td>\n",
       "      <td>...</td>\n",
       "      <td>3.0</td>\n",
       "      <td>3.0</td>\n",
       "      <td>1.0</td>\n",
       "      <td>0.0</td>\n",
       "      <td>1.0</td>\n",
       "      <td>4.0</td>\n",
       "      <td>4.0</td>\n",
       "      <td>3.0</td>\n",
       "      <td>5.0</td>\n",
       "      <td>2.0</td>\n",
       "    </tr>\n",
       "    <tr>\n",
       "      <th>3</th>\n",
       "      <td>2</td>\n",
       "      <td>4</td>\n",
       "      <td>2</td>\n",
       "      <td>2.0</td>\n",
       "      <td>4</td>\n",
       "      <td>2</td>\n",
       "      <td>5</td>\n",
       "      <td>2</td>\n",
       "      <td>1</td>\n",
       "      <td>2</td>\n",
       "      <td>...</td>\n",
       "      <td>2.0</td>\n",
       "      <td>2.0</td>\n",
       "      <td>2.0</td>\n",
       "      <td>0.0</td>\n",
       "      <td>1.0</td>\n",
       "      <td>3.0</td>\n",
       "      <td>4.0</td>\n",
       "      <td>2.0</td>\n",
       "      <td>3.0</td>\n",
       "      <td>3.0</td>\n",
       "    </tr>\n",
       "    <tr>\n",
       "      <th>4</th>\n",
       "      <td>-1</td>\n",
       "      <td>3</td>\n",
       "      <td>1</td>\n",
       "      <td>5.0</td>\n",
       "      <td>4</td>\n",
       "      <td>3</td>\n",
       "      <td>4</td>\n",
       "      <td>1</td>\n",
       "      <td>3</td>\n",
       "      <td>2</td>\n",
       "      <td>...</td>\n",
       "      <td>2.0</td>\n",
       "      <td>4.0</td>\n",
       "      <td>2.0</td>\n",
       "      <td>1.0</td>\n",
       "      <td>2.0</td>\n",
       "      <td>3.0</td>\n",
       "      <td>3.0</td>\n",
       "      <td>4.0</td>\n",
       "      <td>6.0</td>\n",
       "      <td>5.0</td>\n",
       "    </tr>\n",
       "  </tbody>\n",
       "</table>\n",
       "<p>5 rows × 85 columns</p>\n",
       "</div>"
      ],
      "text/plain": [
       "   AGER_TYP  ALTERSKATEGORIE_GROB  ANREDE_KZ  CJT_GESAMTTYP  \\\n",
       "0        -1                     2          1            2.0   \n",
       "1        -1                     1          2            5.0   \n",
       "2        -1                     3          2            3.0   \n",
       "3         2                     4          2            2.0   \n",
       "4        -1                     3          1            5.0   \n",
       "\n",
       "   FINANZ_MINIMALIST  FINANZ_SPARER  FINANZ_VORSORGER  FINANZ_ANLEGER  \\\n",
       "0                  3              4                 3               5   \n",
       "1                  1              5                 2               5   \n",
       "2                  1              4                 1               2   \n",
       "3                  4              2                 5               2   \n",
       "4                  4              3                 4               1   \n",
       "\n",
       "   FINANZ_UNAUFFAELLIGER  FINANZ_HAUSBAUER    ...     PLZ8_ANTG1  PLZ8_ANTG2  \\\n",
       "0                      5                 3    ...            NaN         NaN   \n",
       "1                      4                 5    ...            2.0         3.0   \n",
       "2                      3                 5    ...            3.0         3.0   \n",
       "3                      1                 2    ...            2.0         2.0   \n",
       "4                      3                 2    ...            2.0         4.0   \n",
       "\n",
       "   PLZ8_ANTG3  PLZ8_ANTG4  PLZ8_BAUMAX  PLZ8_HHZ  PLZ8_GBZ  ARBEIT  \\\n",
       "0         NaN         NaN          NaN       NaN       NaN     NaN   \n",
       "1         2.0         1.0          1.0       5.0       4.0     3.0   \n",
       "2         1.0         0.0          1.0       4.0       4.0     3.0   \n",
       "3         2.0         0.0          1.0       3.0       4.0     2.0   \n",
       "4         2.0         1.0          2.0       3.0       3.0     4.0   \n",
       "\n",
       "   ORTSGR_KLS9  RELAT_AB  \n",
       "0          NaN       NaN  \n",
       "1          5.0       4.0  \n",
       "2          5.0       2.0  \n",
       "3          3.0       3.0  \n",
       "4          6.0       5.0  \n",
       "\n",
       "[5 rows x 85 columns]"
      ]
     },
     "execution_count": 3,
     "metadata": {},
     "output_type": "execute_result"
    }
   ],
   "source": [
    "# Check the structure of the data after it's loaded (e.g. print the number of\n",
    "# rows and columns, print the first few rows).\n",
    "\n",
    "azdias.head()"
   ]
  },
  {
   "cell_type": "code",
   "execution_count": 4,
   "metadata": {},
   "outputs": [
    {
     "name": "stdout",
     "output_type": "stream",
     "text": [
      "<class 'pandas.core.frame.DataFrame'>\n",
      "RangeIndex: 891221 entries, 0 to 891220\n",
      "Data columns (total 85 columns):\n",
      "AGER_TYP                 891221 non-null int64\n",
      "ALTERSKATEGORIE_GROB     891221 non-null int64\n",
      "ANREDE_KZ                891221 non-null int64\n",
      "CJT_GESAMTTYP            886367 non-null float64\n",
      "FINANZ_MINIMALIST        891221 non-null int64\n",
      "FINANZ_SPARER            891221 non-null int64\n",
      "FINANZ_VORSORGER         891221 non-null int64\n",
      "FINANZ_ANLEGER           891221 non-null int64\n",
      "FINANZ_UNAUFFAELLIGER    891221 non-null int64\n",
      "FINANZ_HAUSBAUER         891221 non-null int64\n",
      "FINANZTYP                891221 non-null int64\n",
      "GEBURTSJAHR              891221 non-null int64\n",
      "GFK_URLAUBERTYP          886367 non-null float64\n",
      "GREEN_AVANTGARDE         891221 non-null int64\n",
      "HEALTH_TYP               891221 non-null int64\n",
      "LP_LEBENSPHASE_FEIN      886367 non-null float64\n",
      "LP_LEBENSPHASE_GROB      886367 non-null float64\n",
      "LP_FAMILIE_FEIN          886367 non-null float64\n",
      "LP_FAMILIE_GROB          886367 non-null float64\n",
      "LP_STATUS_FEIN           886367 non-null float64\n",
      "LP_STATUS_GROB           886367 non-null float64\n",
      "NATIONALITAET_KZ         891221 non-null int64\n",
      "PRAEGENDE_JUGENDJAHRE    891221 non-null int64\n",
      "RETOURTYP_BK_S           886367 non-null float64\n",
      "SEMIO_SOZ                891221 non-null int64\n",
      "SEMIO_FAM                891221 non-null int64\n",
      "SEMIO_REL                891221 non-null int64\n",
      "SEMIO_MAT                891221 non-null int64\n",
      "SEMIO_VERT               891221 non-null int64\n",
      "SEMIO_LUST               891221 non-null int64\n",
      "SEMIO_ERL                891221 non-null int64\n",
      "SEMIO_KULT               891221 non-null int64\n",
      "SEMIO_RAT                891221 non-null int64\n",
      "SEMIO_KRIT               891221 non-null int64\n",
      "SEMIO_DOM                891221 non-null int64\n",
      "SEMIO_KAEM               891221 non-null int64\n",
      "SEMIO_PFLICHT            891221 non-null int64\n",
      "SEMIO_TRADV              891221 non-null int64\n",
      "SHOPPER_TYP              891221 non-null int64\n",
      "SOHO_KZ                  817722 non-null float64\n",
      "TITEL_KZ                 817722 non-null float64\n",
      "VERS_TYP                 891221 non-null int64\n",
      "ZABEOTYP                 891221 non-null int64\n",
      "ALTER_HH                 817722 non-null float64\n",
      "ANZ_PERSONEN             817722 non-null float64\n",
      "ANZ_TITEL                817722 non-null float64\n",
      "HH_EINKOMMEN_SCORE       872873 non-null float64\n",
      "KK_KUNDENTYP             306609 non-null float64\n",
      "W_KEIT_KIND_HH           783619 non-null float64\n",
      "WOHNDAUER_2008           817722 non-null float64\n",
      "ANZ_HAUSHALTE_AKTIV      798073 non-null float64\n",
      "ANZ_HH_TITEL             794213 non-null float64\n",
      "GEBAEUDETYP              798073 non-null float64\n",
      "KONSUMNAEHE              817252 non-null float64\n",
      "MIN_GEBAEUDEJAHR         798073 non-null float64\n",
      "OST_WEST_KZ              798073 non-null object\n",
      "WOHNLAGE                 798073 non-null float64\n",
      "CAMEO_DEUG_2015          792242 non-null object\n",
      "CAMEO_DEU_2015           792242 non-null object\n",
      "CAMEO_INTL_2015          792242 non-null object\n",
      "KBA05_ANTG1              757897 non-null float64\n",
      "KBA05_ANTG2              757897 non-null float64\n",
      "KBA05_ANTG3              757897 non-null float64\n",
      "KBA05_ANTG4              757897 non-null float64\n",
      "KBA05_BAUMAX             757897 non-null float64\n",
      "KBA05_GBZ                757897 non-null float64\n",
      "BALLRAUM                 797481 non-null float64\n",
      "EWDICHTE                 797481 non-null float64\n",
      "INNENSTADT               797481 non-null float64\n",
      "GEBAEUDETYP_RASTER       798066 non-null float64\n",
      "KKK                      770025 non-null float64\n",
      "MOBI_REGIO               757897 non-null float64\n",
      "ONLINE_AFFINITAET        886367 non-null float64\n",
      "REGIOTYP                 770025 non-null float64\n",
      "KBA13_ANZAHL_PKW         785421 non-null float64\n",
      "PLZ8_ANTG1               774706 non-null float64\n",
      "PLZ8_ANTG2               774706 non-null float64\n",
      "PLZ8_ANTG3               774706 non-null float64\n",
      "PLZ8_ANTG4               774706 non-null float64\n",
      "PLZ8_BAUMAX              774706 non-null float64\n",
      "PLZ8_HHZ                 774706 non-null float64\n",
      "PLZ8_GBZ                 774706 non-null float64\n",
      "ARBEIT                   794005 non-null float64\n",
      "ORTSGR_KLS9              794005 non-null float64\n",
      "RELAT_AB                 794005 non-null float64\n",
      "dtypes: float64(49), int64(32), object(4)\n",
      "memory usage: 578.0+ MB\n"
     ]
    }
   ],
   "source": [
    "azdias.info()"
   ]
  },
  {
   "cell_type": "markdown",
   "metadata": {},
   "source": [
    "> **Tip**: Add additional cells to keep everything in reasonably-sized chunks! Keyboard shortcut `esc --> a` (press escape to enter command mode, then press the 'A' key) adds a new cell before the active cell, and `esc --> b` adds a new cell after the active cell. If you need to convert an active cell to a markdown cell, use `esc --> m` and to convert to a code cell, use `esc --> y`. \n",
    "\n",
    "## Step 1: Preprocessing\n",
    "\n",
    "### Step 1.1: Assess Missing Data\n",
    "\n",
    "The feature summary file contains a summary of properties for each demographics data column. You will use this file to help you make cleaning decisions during this stage of the project. First of all, you should assess the demographics data in terms of missing data. Pay attention to the following points as you perform your analysis, and take notes on what you observe. Make sure that you fill in the **Discussion** cell with your findings and decisions at the end of each step that has one!\n",
    "\n",
    "#### Step 1.1.1: Convert Missing Value Codes to NaNs\n",
    "The fourth column of the feature attributes summary (loaded in above as `feat_info`) documents the codes from the data dictionary that indicate missing or unknown data. While the file encodes this as a list (e.g. `[-1,0]`), this will get read in as a string object. You'll need to do a little bit of parsing to make use of it to identify and clean the data. Convert data that matches a 'missing' or 'unknown' value code into a numpy NaN value. You might want to see how much data takes on a 'missing' or 'unknown' code, and how much data is naturally missing, as a point of interest.\n",
    "\n",
    "**As one more reminder, you are encouraged to add additional cells to break up your analysis into manageable chunks.**"
   ]
  },
  {
   "cell_type": "code",
   "execution_count": 5,
   "metadata": {},
   "outputs": [
    {
     "name": "stdout",
     "output_type": "stream",
     "text": [
      "The number of naturally missing values is 4896838\n"
     ]
    }
   ],
   "source": [
    "# Identify missing or unknown data values and convert them to NaNs.\n",
    "print('The number of naturally missing values is {}'.format(azdias.isnull().sum().sum()))"
   ]
  },
  {
   "cell_type": "code",
   "execution_count": 6,
   "metadata": {},
   "outputs": [],
   "source": [
    "for i in range(len(feat_info)):\n",
    "    missing_or_unknown = feat_info.iloc[i]['missing_or_unknown']\n",
    "    missing_or_unknown = missing_or_unknown.strip('[')\n",
    "    missing_or_unknown = missing_or_unknown.strip(']')\n",
    "    missing_or_unknown = missing_or_unknown.split(sep=',')\n",
    "    missing_or_unknown = [int(value) if (value!='X' and value!='XX' and value!='') else value for value in missing_or_unknown]\n",
    "    if missing_or_unknown != ['']:\n",
    "        azdias = azdias.replace({feat_info.iloc[i]['attribute']: missing_or_unknown}, np.nan)"
   ]
  },
  {
   "cell_type": "code",
   "execution_count": 7,
   "metadata": {},
   "outputs": [
    {
     "name": "stdout",
     "output_type": "stream",
     "text": [
      "After conversion to NaN value, there are now 8373929 values that are missing\n"
     ]
    }
   ],
   "source": [
    "print('After conversion to NaN value, there are now {} values that are missing'.format(azdias.isnull().sum().sum()))\n"
   ]
  },
  {
   "cell_type": "code",
   "execution_count": 8,
   "metadata": {},
   "outputs": [],
   "source": [
    "#The number of missing values is high. Nevertheless, as the main dataset has over 75M different data points across the row,\n",
    "#this number consider to be reasonable."
   ]
  },
  {
   "cell_type": "markdown",
   "metadata": {},
   "source": [
    "#### Step 1.1.2: Assess Missing Data in Each Column\n",
    "\n",
    "How much missing data is present in each column? There are a few columns that are outliers in terms of the proportion of values that are missing. You will want to use matplotlib's [`hist()`](https://matplotlib.org/api/_as_gen/matplotlib.pyplot.hist.html) function to visualize the distribution of missing value counts to find these columns. Identify and document these columns. While some of these columns might have justifications for keeping or re-encoding the data, for this project you should just remove them from the dataframe. (Feel free to make remarks about these outlier columns in the discussion, however!)\n",
    "\n",
    "For the remaining features, are there any patterns in which columns have, or share, missing data?"
   ]
  },
  {
   "cell_type": "code",
   "execution_count": 9,
   "metadata": {},
   "outputs": [],
   "source": [
    "# Perform an assessment of how much missing data there is in each column of the\n",
    "# dataset.\n",
    "missing_each_column =(azdias.isnull().sum()/len(azdias))*100\n"
   ]
  },
  {
   "cell_type": "code",
   "execution_count": 10,
   "metadata": {},
   "outputs": [
    {
     "data": {
      "image/png": "[encoded data removed]",
      "text/plain": [
       "<matplotlib.figure.Figure at 0x7fa444857390>"
      ]
     },
     "metadata": {
      "needs_background": "light"
     },
     "output_type": "display_data"
    }
   ],
   "source": [
    "# Investigate patterns in the amount of missing data in each column.\n",
    "plt.hist(missing_each_column, bins=100)\n",
    "plt.ylabel('Number of Columns')\n",
    "plt.xlabel('percentage of missing values for each column')\n",
    "plt.title('Histogram for the number of missing values')\n",
    "plt.show()\n"
   ]
  },
  {
   "cell_type": "code",
   "execution_count": 11,
   "metadata": {},
   "outputs": [
    {
     "name": "stdout",
     "output_type": "stream",
     "text": [
      "The following columns will be dropped, as they considered as outliers:['AGER_TYP', 'GEBURTSJAHR', 'TITEL_KZ', 'ALTER_HH', 'KK_KUNDENTYP', 'KBA05_BAUMAX']\n"
     ]
    },
    {
     "data": {
      "text/html": [
       "<div>\n",
       "<style scoped>\n",
       "    .dataframe tbody tr th:only-of-type {\n",
       "        vertical-align: middle;\n",
       "    }\n",
       "\n",
       "    .dataframe tbody tr th {\n",
       "        vertical-align: top;\n",
       "    }\n",
       "\n",
       "    .dataframe thead th {\n",
       "        text-align: right;\n",
       "    }\n",
       "</style>\n",
       "<table border=\"1\" class=\"dataframe\">\n",
       "  <thead>\n",
       "    <tr style=\"text-align: right;\">\n",
       "      <th></th>\n",
       "      <th>ALTERSKATEGORIE_GROB</th>\n",
       "      <th>ANREDE_KZ</th>\n",
       "      <th>CJT_GESAMTTYP</th>\n",
       "      <th>FINANZ_MINIMALIST</th>\n",
       "      <th>FINANZ_SPARER</th>\n",
       "      <th>FINANZ_VORSORGER</th>\n",
       "      <th>FINANZ_ANLEGER</th>\n",
       "      <th>FINANZ_UNAUFFAELLIGER</th>\n",
       "      <th>FINANZ_HAUSBAUER</th>\n",
       "      <th>FINANZTYP</th>\n",
       "      <th>...</th>\n",
       "      <th>PLZ8_ANTG1</th>\n",
       "      <th>PLZ8_ANTG2</th>\n",
       "      <th>PLZ8_ANTG3</th>\n",
       "      <th>PLZ8_ANTG4</th>\n",
       "      <th>PLZ8_BAUMAX</th>\n",
       "      <th>PLZ8_HHZ</th>\n",
       "      <th>PLZ8_GBZ</th>\n",
       "      <th>ARBEIT</th>\n",
       "      <th>ORTSGR_KLS9</th>\n",
       "      <th>RELAT_AB</th>\n",
       "    </tr>\n",
       "  </thead>\n",
       "  <tbody>\n",
       "    <tr>\n",
       "      <th>0</th>\n",
       "      <td>2.0</td>\n",
       "      <td>1</td>\n",
       "      <td>2.0</td>\n",
       "      <td>3</td>\n",
       "      <td>4</td>\n",
       "      <td>3</td>\n",
       "      <td>5</td>\n",
       "      <td>5</td>\n",
       "      <td>3</td>\n",
       "      <td>4</td>\n",
       "      <td>...</td>\n",
       "      <td>NaN</td>\n",
       "      <td>NaN</td>\n",
       "      <td>NaN</td>\n",
       "      <td>NaN</td>\n",
       "      <td>NaN</td>\n",
       "      <td>NaN</td>\n",
       "      <td>NaN</td>\n",
       "      <td>NaN</td>\n",
       "      <td>NaN</td>\n",
       "      <td>NaN</td>\n",
       "    </tr>\n",
       "    <tr>\n",
       "      <th>1</th>\n",
       "      <td>1.0</td>\n",
       "      <td>2</td>\n",
       "      <td>5.0</td>\n",
       "      <td>1</td>\n",
       "      <td>5</td>\n",
       "      <td>2</td>\n",
       "      <td>5</td>\n",
       "      <td>4</td>\n",
       "      <td>5</td>\n",
       "      <td>1</td>\n",
       "      <td>...</td>\n",
       "      <td>2.0</td>\n",
       "      <td>3.0</td>\n",
       "      <td>2.0</td>\n",
       "      <td>1.0</td>\n",
       "      <td>1.0</td>\n",
       "      <td>5.0</td>\n",
       "      <td>4.0</td>\n",
       "      <td>3.0</td>\n",
       "      <td>5.0</td>\n",
       "      <td>4.0</td>\n",
       "    </tr>\n",
       "    <tr>\n",
       "      <th>2</th>\n",
       "      <td>3.0</td>\n",
       "      <td>2</td>\n",
       "      <td>3.0</td>\n",
       "      <td>1</td>\n",
       "      <td>4</td>\n",
       "      <td>1</td>\n",
       "      <td>2</td>\n",
       "      <td>3</td>\n",
       "      <td>5</td>\n",
       "      <td>1</td>\n",
       "      <td>...</td>\n",
       "      <td>3.0</td>\n",
       "      <td>3.0</td>\n",
       "      <td>1.0</td>\n",
       "      <td>0.0</td>\n",
       "      <td>1.0</td>\n",
       "      <td>4.0</td>\n",
       "      <td>4.0</td>\n",
       "      <td>3.0</td>\n",
       "      <td>5.0</td>\n",
       "      <td>2.0</td>\n",
       "    </tr>\n",
       "    <tr>\n",
       "      <th>3</th>\n",
       "      <td>4.0</td>\n",
       "      <td>2</td>\n",
       "      <td>2.0</td>\n",
       "      <td>4</td>\n",
       "      <td>2</td>\n",
       "      <td>5</td>\n",
       "      <td>2</td>\n",
       "      <td>1</td>\n",
       "      <td>2</td>\n",
       "      <td>6</td>\n",
       "      <td>...</td>\n",
       "      <td>2.0</td>\n",
       "      <td>2.0</td>\n",
       "      <td>2.0</td>\n",
       "      <td>0.0</td>\n",
       "      <td>1.0</td>\n",
       "      <td>3.0</td>\n",
       "      <td>4.0</td>\n",
       "      <td>2.0</td>\n",
       "      <td>3.0</td>\n",
       "      <td>3.0</td>\n",
       "    </tr>\n",
       "    <tr>\n",
       "      <th>4</th>\n",
       "      <td>3.0</td>\n",
       "      <td>1</td>\n",
       "      <td>5.0</td>\n",
       "      <td>4</td>\n",
       "      <td>3</td>\n",
       "      <td>4</td>\n",
       "      <td>1</td>\n",
       "      <td>3</td>\n",
       "      <td>2</td>\n",
       "      <td>5</td>\n",
       "      <td>...</td>\n",
       "      <td>2.0</td>\n",
       "      <td>4.0</td>\n",
       "      <td>2.0</td>\n",
       "      <td>1.0</td>\n",
       "      <td>2.0</td>\n",
       "      <td>3.0</td>\n",
       "      <td>3.0</td>\n",
       "      <td>4.0</td>\n",
       "      <td>6.0</td>\n",
       "      <td>5.0</td>\n",
       "    </tr>\n",
       "  </tbody>\n",
       "</table>\n",
       "<p>5 rows × 79 columns</p>\n",
       "</div>"
      ],
      "text/plain": [
       "   ALTERSKATEGORIE_GROB  ANREDE_KZ  CJT_GESAMTTYP  FINANZ_MINIMALIST  \\\n",
       "0                   2.0          1            2.0                  3   \n",
       "1                   1.0          2            5.0                  1   \n",
       "2                   3.0          2            3.0                  1   \n",
       "3                   4.0          2            2.0                  4   \n",
       "4                   3.0          1            5.0                  4   \n",
       "\n",
       "   FINANZ_SPARER  FINANZ_VORSORGER  FINANZ_ANLEGER  FINANZ_UNAUFFAELLIGER  \\\n",
       "0              4                 3               5                      5   \n",
       "1              5                 2               5                      4   \n",
       "2              4                 1               2                      3   \n",
       "3              2                 5               2                      1   \n",
       "4              3                 4               1                      3   \n",
       "\n",
       "   FINANZ_HAUSBAUER  FINANZTYP    ...     PLZ8_ANTG1  PLZ8_ANTG2  PLZ8_ANTG3  \\\n",
       "0                 3          4    ...            NaN         NaN         NaN   \n",
       "1                 5          1    ...            2.0         3.0         2.0   \n",
       "2                 5          1    ...            3.0         3.0         1.0   \n",
       "3                 2          6    ...            2.0         2.0         2.0   \n",
       "4                 2          5    ...            2.0         4.0         2.0   \n",
       "\n",
       "   PLZ8_ANTG4  PLZ8_BAUMAX  PLZ8_HHZ  PLZ8_GBZ  ARBEIT  ORTSGR_KLS9  RELAT_AB  \n",
       "0         NaN          NaN       NaN       NaN     NaN          NaN       NaN  \n",
       "1         1.0          1.0       5.0       4.0     3.0          5.0       4.0  \n",
       "2         0.0          1.0       4.0       4.0     3.0          5.0       2.0  \n",
       "3         0.0          1.0       3.0       4.0     2.0          3.0       3.0  \n",
       "4         1.0          2.0       3.0       3.0     4.0          6.0       5.0  \n",
       "\n",
       "[5 rows x 79 columns]"
      ]
     },
     "execution_count": 11,
     "metadata": {},
     "output_type": "execute_result"
    }
   ],
   "source": [
    "# Remove the outlier columns from the dataset. (You'll perform other data\n",
    "# engineering tasks such as re-encoding and imputation later.)\n",
    "\n",
    "Remove_outlier = missing_each_column[missing_each_column > 18]\n",
    "dropped_coloumns= Remove_outlier.index.tolist()\n",
    "print('The following columns will be dropped, as they considered as outliers:{}'.format(dropped_coloumns))\n",
    "\n",
    "azdias = azdias.drop(dropped_coloumns, axis=1)\n",
    "\n",
    "azdias.head()\n"
   ]
  },
  {
   "cell_type": "markdown",
   "metadata": {},
   "source": [
    "#### Discussion 1.1.2: Assess Missing Data in Each Column\n",
    "\n",
    "Yes There is a pattern in missing values, in which most of the columns have a missing datat less than 18%. However, there are some other small number of columns that have more than 18% of the missing data, hence they considered as outlier and then dropped. \n",
    "\n",
    "The following columns are dropped:\n",
    "'AGER_TYP', 'GEBURTSJAHR', 'TITEL_KZ', 'ALTER_HH', 'KK_KUNDENTYP', 'KBA05_BAUMAX'"
   ]
  },
  {
   "cell_type": "markdown",
   "metadata": {},
   "source": [
    "#### Step 1.1.3: Assess Missing Data in Each Row\n",
    "\n",
    "Now, you'll perform a similar assessment for the rows of the dataset. How much data is missing in each row? As with the columns, you should see some groups of points that have a very different numbers of missing values. Divide the data into two subsets: one for data points that are above some threshold for missing values, and a second subset for points below that threshold.\n",
    "\n",
    "In order to know what to do with the outlier rows, we should see if the distribution of data values on columns that are not missing data (or are missing very little data) are similar or different between the two groups. Select at least five of these columns and compare the distribution of values.\n",
    "- You can use seaborn's [`countplot()`](https://seaborn.pydata.org/generated/seaborn.countplot.html) function to create a bar chart of code frequencies and matplotlib's [`subplot()`](https://matplotlib.org/api/_as_gen/matplotlib.pyplot.subplot.html) function to put bar charts for the two subplots side by side.\n",
    "- To reduce repeated code, you might want to write a function that can perform this comparison, taking as one of its arguments a column to be compared.\n",
    "\n",
    "Depending on what you observe in your comparison, this will have implications on how you approach your conclusions later in the analysis. If the distributions of non-missing features look similar between the data with many missing values and the data with few or no missing values, then we could argue that simply dropping those points from the analysis won't present a major issue. On the other hand, if the data with many missing values looks very different from the data with few or no missing values, then we should make a note on those data as special. We'll revisit these data later on. **Either way, you should continue your analysis for now using just the subset of the data with few or no missing values.**"
   ]
  },
  {
   "cell_type": "code",
   "execution_count": 12,
   "metadata": {},
   "outputs": [
    {
     "data": {
      "image/png": "[encoded data removed]",
      "text/plain": [
       "<matplotlib.figure.Figure at 0x7fa442445438>"
      ]
     },
     "metadata": {
      "needs_background": "light"
     },
     "output_type": "display_data"
    }
   ],
   "source": [
    "# How much data is missing in each row of the dataset?\n",
    "missing_each_raw =azdias.isnull().sum(axis=1)\n",
    "\n",
    "\n",
    "plt.hist(missing_each_raw, bins=100)\n",
    "plt.xlabel('Missing values for each raw')\n",
    "plt.ylabel('Raws')\n",
    "plt.title('Histogram for the number of missing values')\n",
    "plt.show()"
   ]
  },
  {
   "cell_type": "code",
   "execution_count": 13,
   "metadata": {},
   "outputs": [],
   "source": [
    "# Write code to divide the data into two subsets based on the number of missing\n",
    "# values in each row.\n",
    "missing_less=azdias[missing_each_raw<=20]\n",
    "missing_higher=azdias[missing_each_raw>20]\n",
    "\n"
   ]
  },
  {
   "cell_type": "code",
   "execution_count": 14,
   "metadata": {},
   "outputs": [
    {
     "data": {
      "image/png": "[encoded data removed]",
      "text/plain": [
       "<matplotlib.figure.Figure at 0x7fa44ef9e6d8>"
      ]
     },
     "metadata": {
      "needs_background": "light"
     },
     "output_type": "display_data"
    }
   ],
   "source": [
    "# Compare the distribution of values for at least five columns where there are\n",
    "# no or few missing values, between the two subsets.\n",
    "few_missing = missing_each_column[missing_each_column==0].index.tolist()\n",
    "comparison = few_missing[:5]\n",
    "\n",
    "figure, axs = plt.subplots(nrows=len(comparison), ncols=2, figsize = (15,20))\n",
    "figure.subplots_adjust(hspace = 1, wspace=.3)\n",
    "for i in range(len(comparison)):\n",
    "    sns.countplot(missing_less[comparison[i]], ax=axs[i][0])\n",
    "    axs[i][0].set_title('No or few missing values (<=20)')\n",
    "    sns.countplot(missing_higher[comparison[i]], ax=axs[i][1])\n",
    "    axs[i][1].set_title('Many missing values (>20)')"
   ]
  },
  {
   "cell_type": "markdown",
   "metadata": {},
   "source": [
    "#### Discussion 1.1.3: Assess Missing Data in Each Row\n",
    "\n",
    "As shown in the figures above, for the first figure of ARNREDE_KZ feature the distrbution of the missing values between the two subset is quite similar. However, the rest of the figures shown here have different distrubution values between te two subset.   "
   ]
  },
  {
   "cell_type": "markdown",
   "metadata": {},
   "source": [
    "### Step 1.2: Select and Re-Encode Features\n",
    "\n",
    "Checking for missing data isn't the only way in which you can prepare a dataset for analysis. Since the unsupervised learning techniques to be used will only work on data that is encoded numerically, you need to make a few encoding changes or additional assumptions to be able to make progress. In addition, while almost all of the values in the dataset are encoded using numbers, not all of them represent numeric values. Check the third column of the feature summary (`feat_info`) for a summary of types of measurement.\n",
    "- For numeric and interval data, these features can be kept without changes.\n",
    "- Most of the variables in the dataset are ordinal in nature. While ordinal values may technically be non-linear in spacing, make the simplifying assumption that the ordinal variables can be treated as being interval in nature (that is, kept without any changes).\n",
    "- Special handling may be necessary for the remaining two variable types: categorical, and 'mixed'.\n",
    "\n",
    "In the first two parts of this sub-step, you will perform an investigation of the categorical and mixed-type features and make a decision on each of them, whether you will keep, drop, or re-encode each. Then, in the last part, you will create a new data frame with only the selected and engineered columns.\n",
    "\n",
    "Data wrangling is often the trickiest part of the data analysis process, and there's a lot of it to be done here. But stick with it: once you're done with this step, you'll be ready to get to the machine learning parts of the project!"
   ]
  },
  {
   "cell_type": "code",
   "execution_count": 15,
   "metadata": {},
   "outputs": [
    {
     "data": {
      "text/plain": [
       "ordinal        49\n",
       "categorical    18\n",
       "numeric         6\n",
       "mixed           6\n",
       "Name: type, dtype: int64"
      ]
     },
     "execution_count": 15,
     "metadata": {},
     "output_type": "execute_result"
    }
   ],
   "source": [
    "# How many features are there of each data type?\n",
    "\n",
    "feat_info=feat_info[feat_info.attribute.isin(missing_less.columns)]\n",
    "feat_info.type.value_counts()\n"
   ]
  },
  {
   "cell_type": "markdown",
   "metadata": {},
   "source": [
    "#### Step 1.2.1: Re-Encode Categorical Features\n",
    "\n",
    "For categorical data, you would ordinarily need to encode the levels as dummy variables. Depending on the number of categories, perform one of the following:\n",
    "- For binary (two-level) categoricals that take numeric values, you can keep them without needing to do anything.\n",
    "- There is one binary variable that takes on non-numeric values. For this one, you need to re-encode the values as numbers or create a dummy variable.\n",
    "- For multi-level categoricals (three or more values), you can choose to encode the values using multiple dummy variables (e.g. via [OneHotEncoder](http://scikit-learn.org/stable/modules/generated/sklearn.preprocessing.OneHotEncoder.html)), or (to keep things straightforward) just drop them from the analysis. As always, document your choices in the Discussion section."
   ]
  },
  {
   "cell_type": "code",
   "execution_count": 16,
   "metadata": {},
   "outputs": [
    {
     "name": "stdout",
     "output_type": "stream",
     "text": [
      "Binary features are: ['ANREDE_KZ', 'GREEN_AVANTGARDE', 'SOHO_KZ', 'OST_WEST_KZ']\n",
      "Multi-level features are: ['CJT_GESAMTTYP', 'FINANZTYP', 'GFK_URLAUBERTYP', 'LP_FAMILIE_FEIN', 'LP_FAMILIE_GROB', 'LP_STATUS_FEIN', 'LP_STATUS_GROB', 'NATIONALITAET_KZ', 'SHOPPER_TYP', 'VERS_TYP', 'ZABEOTYP', 'GEBAEUDETYP', 'CAMEO_DEUG_2015', 'CAMEO_DEU_2015']\n"
     ]
    }
   ],
   "source": [
    "# Assess categorical variables: which are binary, which are multi-level, and\n",
    "# which one needs to be re-encoded?\n",
    "features = list(missing_less.columns)\n",
    "feat_info_clean = feat_info[feat_info['attribute'].isin(features)]\n",
    "cat_features = feat_info_clean[feat_info_clean[\"type\"]==\"categorical\"][\"attribute\"]\n",
    "\n",
    "binary_feature = []\n",
    "multi_level_feature=[]\n",
    "for feature in cat_features:\n",
    "    if (len(missing_less[feature].unique())==2):\n",
    "        binary_feature.append(feature)\n",
    "    elif (len(missing_less[feature].unique())>2):\n",
    "        multi_level_feature.append(feature)\n",
    "\n",
    "\n",
    "print('Binary features are: {}'.format(binary_feature))\n",
    "print('Multi-level features are: {}'.format(multi_level_feature))"
   ]
  },
  {
   "cell_type": "code",
   "execution_count": 17,
   "metadata": {},
   "outputs": [
    {
     "name": "stdout",
     "output_type": "stream",
     "text": [
      "The orginal values for ANREDE_KZ are [2 1]\n",
      "The orginal values for GREEN_AVANTGARDE are [0 1]\n",
      "The orginal values for SOHO_KZ are [ 1.  0.]\n",
      "The orginal values for OST_WEST_KZ are ['W' 'O']\n"
     ]
    }
   ],
   "source": [
    "for feature in binary_feature:\n",
    "    print('The orginal values for {} are {}'.format(feature, missing_less[feature].unique()))"
   ]
  },
  {
   "cell_type": "code",
   "execution_count": 18,
   "metadata": {},
   "outputs": [],
   "source": [
    "# Re-encode categorical variable(s) to be kept in the analysis.\n",
    "\n",
    "missing_less_clean = missing_less.replace({'OST_WEST_KZ':{'W': 0, 'O': 1}})\n",
    "\n",
    "#Droping multi-level feature\n",
    "for feature in multi_level_feature:\n",
    "    missing_less_clean=missing_less_clean.drop(feature, axis=1)\n"
   ]
  },
  {
   "cell_type": "code",
   "execution_count": 19,
   "metadata": {},
   "outputs": [
    {
     "name": "stdout",
     "output_type": "stream",
     "text": [
      "<class 'pandas.core.frame.DataFrame'>\n",
      "Int64Index: 797426 entries, 1 to 891220\n",
      "Data columns (total 65 columns):\n",
      "ALTERSKATEGORIE_GROB     794642 non-null float64\n",
      "ANREDE_KZ                797426 non-null int64\n",
      "FINANZ_MINIMALIST        797426 non-null int64\n",
      "FINANZ_SPARER            797426 non-null int64\n",
      "FINANZ_VORSORGER         797426 non-null int64\n",
      "FINANZ_ANLEGER           797426 non-null int64\n",
      "FINANZ_UNAUFFAELLIGER    797426 non-null int64\n",
      "FINANZ_HAUSBAUER         797426 non-null int64\n",
      "GREEN_AVANTGARDE         797426 non-null int64\n",
      "HEALTH_TYP               761009 non-null float64\n",
      "LP_LEBENSPHASE_FEIN      747775 non-null float64\n",
      "LP_LEBENSPHASE_GROB      750596 non-null float64\n",
      "PRAEGENDE_JUGENDJAHRE    768968 non-null float64\n",
      "RETOURTYP_BK_S           792792 non-null float64\n",
      "SEMIO_SOZ                797426 non-null int64\n",
      "SEMIO_FAM                797426 non-null int64\n",
      "SEMIO_REL                797426 non-null int64\n",
      "SEMIO_MAT                797426 non-null int64\n",
      "SEMIO_VERT               797426 non-null int64\n",
      "SEMIO_LUST               797426 non-null int64\n",
      "SEMIO_ERL                797426 non-null int64\n",
      "SEMIO_KULT               797426 non-null int64\n",
      "SEMIO_RAT                797426 non-null int64\n",
      "SEMIO_KRIT               797426 non-null int64\n",
      "SEMIO_DOM                797426 non-null int64\n",
      "SEMIO_KAEM               797426 non-null int64\n",
      "SEMIO_PFLICHT            797426 non-null int64\n",
      "SEMIO_TRADV              797426 non-null int64\n",
      "SOHO_KZ                  797426 non-null float64\n",
      "ANZ_PERSONEN             797426 non-null float64\n",
      "ANZ_TITEL                797426 non-null float64\n",
      "HH_EINKOMMEN_SCORE       797426 non-null float64\n",
      "W_KEIT_KIND_HH           738526 non-null float64\n",
      "WOHNDAUER_2008           797426 non-null float64\n",
      "ANZ_HAUSHALTE_AKTIV      791096 non-null float64\n",
      "ANZ_HH_TITEL             793698 non-null float64\n",
      "KONSUMNAEHE              797358 non-null float64\n",
      "MIN_GEBAEUDEJAHR         797426 non-null float64\n",
      "OST_WEST_KZ              797426 non-null int64\n",
      "WOHNLAGE                 797426 non-null float64\n",
      "CAMEO_INTL_2015          791423 non-null object\n",
      "KBA05_ANTG1              757890 non-null float64\n",
      "KBA05_ANTG2              757890 non-null float64\n",
      "KBA05_ANTG3              757890 non-null float64\n",
      "KBA05_ANTG4              757890 non-null float64\n",
      "KBA05_GBZ                757890 non-null float64\n",
      "BALLRAUM                 796835 non-null float64\n",
      "EWDICHTE                 796835 non-null float64\n",
      "INNENSTADT               796835 non-null float64\n",
      "GEBAEUDETYP_RASTER       797421 non-null float64\n",
      "KKK                      732993 non-null float64\n",
      "MOBI_REGIO               757890 non-null float64\n",
      "ONLINE_AFFINITAET        792792 non-null float64\n",
      "REGIOTYP                 732993 non-null float64\n",
      "KBA13_ANZAHL_PKW         785169 non-null float64\n",
      "PLZ8_ANTG1               774697 non-null float64\n",
      "PLZ8_ANTG2               774697 non-null float64\n",
      "PLZ8_ANTG3               774697 non-null float64\n",
      "PLZ8_ANTG4               774697 non-null float64\n",
      "PLZ8_BAUMAX              774697 non-null float64\n",
      "PLZ8_HHZ                 774697 non-null float64\n",
      "PLZ8_GBZ                 774697 non-null float64\n",
      "ARBEIT                   793208 non-null float64\n",
      "ORTSGR_KLS9              793308 non-null float64\n",
      "RELAT_AB                 793208 non-null float64\n",
      "dtypes: float64(41), int64(23), object(1)\n",
      "memory usage: 401.5+ MB\n"
     ]
    }
   ],
   "source": [
    " missing_less_clean.info()"
   ]
  },
  {
   "cell_type": "markdown",
   "metadata": {},
   "source": [
    "#### Discussion 1.2.1: Re-Encode Categorical Features\n",
    "\n",
    "Here are the following steps that I performed:\n",
    "1- At the beginning, I re-encoded 'OST_WEST_KZ' values with the number for further usage in the analysis.\n",
    "2- I kept the remaining values of binary features 'ANREDE_KZ', 'GREEN_AVANTGARDE', and 'SOHO_KZ '.\n",
    "3- I dropped the multi-level variables."
   ]
  },
  {
   "cell_type": "markdown",
   "metadata": {},
   "source": [
    "#### Step 1.2.2: Engineer Mixed-Type Features\n",
    "\n",
    "There are a handful of features that are marked as \"mixed\" in the feature summary that require special treatment in order to be included in the analysis. There are two in particular that deserve attention; the handling of the rest are up to your own choices:\n",
    "- \"PRAEGENDE_JUGENDJAHRE\" combines information on three dimensions: generation by decade, movement (mainstream vs. avantgarde), and nation (east vs. west). While there aren't enough levels to disentangle east from west, you should create two new variables to capture the other two dimensions: an interval-type variable for decade, and a binary variable for movement.\n",
    "- \"CAMEO_INTL_2015\" combines information on two axes: wealth and life stage. Break up the two-digit codes by their 'tens'-place and 'ones'-place digits into two new ordinal variables (which, for the purposes of this project, is equivalent to just treating them as their raw numeric values).\n",
    "- If you decide to keep or engineer new features around the other mixed-type features, make sure you note your steps in the Discussion section.\n",
    "\n",
    "Be sure to check `Data_Dictionary.md` for the details needed to finish these tasks."
   ]
  },
  {
   "cell_type": "code",
   "execution_count": 20,
   "metadata": {},
   "outputs": [],
   "source": [
    "# Investigate \"PRAEGENDE_JUGENDJAHRE\" and engineer two new variables.\n",
    "decade_dic={1:1,2:1,3:2,4:2,5:3,6:3,7:3,8:4,9:4,10:5,11:5,12:5,13:5,14:6,15:6}\n",
    "movement_dic={1:1,2:0,3:1,4:0,5:1,6:0,7:0,8:1,9:0,10:1,11:0,12:1,13:0,14:1,15:0}\n",
    "\n",
    "missing_less_clean['DECADE'] = missing_less_clean['PRAEGENDE_JUGENDJAHRE']\n",
    "missing_less_clean['MOVEMENT'] = missing_less_clean['PRAEGENDE_JUGENDJAHRE']\n",
    "#replace with new variables\n",
    "missing_less_clean['DECADE'].replace(decade_dic, inplace=True)\n",
    "missing_less_clean['MOVEMENT'].replace(movement_dic, inplace=True)\n"
   ]
  },
  {
   "cell_type": "code",
   "execution_count": 21,
   "metadata": {},
   "outputs": [],
   "source": [
    "# Investigate \"CAMEO_INTL_2015\" and engineer two new variables.\n",
    "wealth_dic = {'11':1, '12':1, '13':1, '14':1, '15':1, '21':2, '22':2, '23':2, '24':2, '25':2,\n",
    "               '31':3, '32':3, '33':3, '34':3, '35':3, '41':4, '42':4, '43':4, '44':4, '45':4,\n",
    "               '51':5, '52':5, '53':5, '54':5, '55':5}\n",
    "\n",
    "life_stage_dic = {'11':1, '12':2, '13':3, '14':4, '15':5, '21':1, '22':2, '23':3, '24':4, '25':5,\n",
    "                   '31':1, '32':2, '33':3, '34':4, '35':5, '41':1, '42':2, '43':3, '44':4, '45':5,\n",
    "                   '51':1, '52':2, '53':3, '54':4, '55':5}\n",
    "\n",
    "missing_less_clean['WEALTH'] = missing_less_clean['CAMEO_INTL_2015']\n",
    "missing_less_clean['LIFE_STAGE'] = missing_less_clean['CAMEO_INTL_2015']\n",
    "#replace with new variables\n",
    "missing_less_clean['WEALTH'].replace(wealth_dic, inplace=True)\n",
    "missing_less_clean['LIFE_STAGE'].replace(life_stage_dic, inplace=True)\n"
   ]
  },
  {
   "cell_type": "markdown",
   "metadata": {},
   "source": [
    "#### Discussion 1.2.2: Engineer Mixed-Type Features\n",
    "\n",
    "For the mixed type features, I kept the following and I dropped the rest:\n",
    "PRAEGENDE_JUGENDJAHRE\n",
    "CAMEO_INTL_2015\n",
    "\n",
    "I then performed the following steps to engineer the kept two Mixed-Type Features:  \n",
    "1- Created two dictionaries for each variable\n",
    "2- Created two new cloumns, in which I copied the values from the orginal kept two Mixed-Type Features.\n",
    "3- Replaced the orginal values kept two Mixed-Type Features with the dictionaries "
   ]
  },
  {
   "cell_type": "markdown",
   "metadata": {},
   "source": [
    "#### Step 1.2.3: Complete Feature Selection\n",
    "\n",
    "In order to finish this step up, you need to make sure that your data frame now only has the columns that you want to keep. To summarize, the dataframe should consist of the following:\n",
    "- All numeric, interval, and ordinal type columns from the original dataset.\n",
    "- Binary categorical features (all numerically-encoded).\n",
    "- Engineered features from other multi-level categorical features and mixed features.\n",
    "\n",
    "Make sure that for any new columns that you have engineered, that you've excluded the original columns from the final dataset. Otherwise, their values will interfere with the analysis later on the project. For example, you should not keep \"PRAEGENDE_JUGENDJAHRE\", since its values won't be useful for the algorithm: only the values derived from it in the engineered features you created should be retained. As a reminder, your data should only be from **the subset with few or no missing values**."
   ]
  },
  {
   "cell_type": "code",
   "execution_count": 22,
   "metadata": {},
   "outputs": [],
   "source": [
    "# If there are other re-engineering tasks you need to perform, make sure you\n",
    "# take care of them here. (Dealing with missing data will come in step 2.1.)\n",
    "\n"
   ]
  },
  {
   "cell_type": "code",
   "execution_count": 23,
   "metadata": {},
   "outputs": [
    {
     "data": {
      "text/plain": [
       "15      LP_LEBENSPHASE_FEIN\n",
       "16      LP_LEBENSPHASE_GROB\n",
       "22    PRAEGENDE_JUGENDJAHRE\n",
       "56                 WOHNLAGE\n",
       "59          CAMEO_INTL_2015\n",
       "Name: attribute, dtype: object"
      ]
     },
     "execution_count": 23,
     "metadata": {},
     "output_type": "execute_result"
    }
   ],
   "source": [
    "# Do whatever you need to in order to ensure that the dataframe only contains\n",
    "# the columns that should be passed to the algorithm functions.\n",
    "\n",
    "mixed_features = feat_info_clean[feat_info_clean.type==\"mixed\"][\"attribute\"]\n",
    "for feature in mixed_features:\n",
    "    missing_less_clean.drop(feature, axis=1, inplace=True)\n",
    "\n",
    "\n",
    "mixed_features.head()\n"
   ]
  },
  {
   "cell_type": "markdown",
   "metadata": {},
   "source": [
    "### Step 1.3: Create a Cleaning Function\n",
    "\n",
    "Even though you've finished cleaning up the general population demographics data, it's important to look ahead to the future and realize that you'll need to perform the same cleaning steps on the customer demographics data. In this substep, complete the function below to execute the main feature selection, encoding, and re-engineering steps you performed above. Then, when it comes to looking at the customer data in Step 3, you can just run this function on that DataFrame to get the trimmed dataset in a single step."
   ]
  },
  {
   "cell_type": "code",
   "execution_count": 24,
   "metadata": {},
   "outputs": [],
   "source": [
    "def clean_data(df):\n",
    "    \"\"\"\n",
    "    Perform feature trimming, re-encoding, and engineering for demographics\n",
    "    data\n",
    "    \n",
    "    INPUT: Demographics DataFrame\n",
    "    OUTPUT: Trimmed and cleaned demographics DataFrame\n",
    "    \"\"\"\n",
    "    \n",
    "    \n",
    "    for i in range(len(feat_info)):\n",
    "        missing_or_unknown = feat_info.iloc[i]['missing_or_unknown']\n",
    "        missing_or_unknown = missing_or_unknown.strip('[')\n",
    "        missing_or_unknown = missing_or_unknown.strip(']')\n",
    "        missing_or_unknown = missing_or_unknown.split(sep=',')\n",
    "        missing_or_unknown = [int(value) if (value!='X' and value!='XX' and value!='') else value for value in missing_or_unknown]\n",
    "        if missing_or_unknown != ['']:\n",
    "            df_clean = df.replace({feat_info.iloc[i]['attribute']: missing_or_unknown}, np.nan)\n",
    "    \n",
    "    for col in df.columns:\n",
    "        df_clean = df_clean.replace({col: ['XX', 'X']}, np.nan)\n",
    "   \n",
    "    # drop columns if  more than 20% missing values\n",
    "    columns_miss_20 = ['AGER_TYP', 'GEBURTSJAHR', 'TITEL_KZ', 'ALTER_HH', 'KK_KUNDENTYP', 'KBA05_BAUMAX']\n",
    "    df_clean = df_clean.drop(columns_miss_20, axis=1)\n",
    "    # drop rows with more than 3 missing values\n",
    "    df_clean = df_clean[df_clean.isnull().sum(axis=1) <= 3]\n",
    "    # select, re-encode, and engineer column values.\n",
    "\n",
    "    # reencoding binary feature\n",
    "    new_values = {'W': 0, 'O': 1}\n",
    "    df_clean = df_clean.replace({'OST_WEST_KZ':new_values})\n",
    "    \n",
    "    # dropping multi-leve features\n",
    "    cat_features = feat_info_clean[feat_info_clean[\"type\"]==\"categorical\"][\"attribute\"]\n",
    "    multi_level_feature=[]\n",
    "    for feature in cat_features:\n",
    "        if (len(missing_less[feature].unique())>2):\n",
    "            multi_level_feature.append(feature)\n",
    "    for feature in multi_level_feature:\n",
    "        df_clean=df_clean.drop(feature, axis=1)\n",
    "    \n",
    "    # engineering mixed features\n",
    "    df_clean['DECADE'] = df_clean['PRAEGENDE_JUGENDJAHRE']\n",
    "    df_clean['MOVEMENT'] = df_clean['PRAEGENDE_JUGENDJAHRE']\n",
    "    \n",
    "    decade_dict = {1:1, 2:1, 3:2, 4:2, 5:3, 6:3, 7:3, 8:4, 9:4, 10:5, 11:5, 12:5, 13:5, 14:6, 15:6}\n",
    "    movement_dict = {1:1, 2:0, 3:1, 4:0, 5:1, 6:0, 7:0, 8:1, 9:0, 10:1, 11:0, 12:1, 13:0, 14:1, 15:0}\n",
    "    \n",
    "    df_clean['DECADE'].replace(decade_dict, inplace=True)\n",
    "    df_clean['MOVEMENT'].replace(movement_dict, inplace=True)\n",
    "    df_clean['WEALTH'] = df_clean['CAMEO_INTL_2015']\n",
    "    df_clean['LIFE_STAGE'] = df_clean['CAMEO_INTL_2015']\n",
    "    \n",
    "    wealth_dict = {'11':1, '12':1, '13':1, '14':1, '15':1, '21':2, '22':2, '23':2, '24':2, '25':2,\n",
    "                   '31':3, '32':3, '33':3, '34':3, '35':3, '41':4, '42':4, '43':4, '44':4, '45':4,\n",
    "                   '51':5, '52':5, '53':5, '54':5, '55':5}\n",
    "    \n",
    "    life_stage_dict = {'11':1, '12':2, '13':3, '14':4, '15':5, '21':1, '22':2, '23':3, '24':4, '25':5,\n",
    "                       '31':1, '32':2, '33':3, '34':4, '35':5, '41':1, '42':2, '43':3, '44':4, '45':5,\n",
    "                       '51':1, '52':2, '53':3, '54':4, '55':5}\n",
    "    \n",
    "    df_clean['WEALTH'].replace(wealth_dict, inplace=True)\n",
    "    df_clean['LIFE_STAGE'].replace(life_stage_dict, inplace=True)\n",
    "    \n",
    "    mixed_features = feat_info_clean[feat_info_clean[\"type\"]==\"mixed\"][\"attribute\"]\n",
    "    for feature in mixed_features:\n",
    "        df_clean.drop(feature, axis=1, inplace=True)\n",
    "    \n",
    "    # Return the cleaned dataframe.\n",
    "    return df_clean"
   ]
  },
  {
   "cell_type": "markdown",
   "metadata": {},
   "source": [
    "## Step 2: Feature Transformation\n",
    "\n",
    "### Step 2.1: Apply Feature Scaling\n",
    "\n",
    "Before we apply dimensionality reduction techniques to the data, we need to perform feature scaling so that the principal component vectors are not influenced by the natural differences in scale for features. Starting from this part of the project, you'll want to keep an eye on the [API reference page for sklearn](http://scikit-learn.org/stable/modules/classes.html) to help you navigate to all of the classes and functions that you'll need. In this substep, you'll need to check the following:\n",
    "\n",
    "- sklearn requires that data not have missing values in order for its estimators to work properly. So, before applying the scaler to your data, make sure that you've cleaned the DataFrame of the remaining missing values. This can be as simple as just removing all data points with missing data, or applying an [Imputer](http://scikit-learn.org/stable/modules/generated/sklearn.preprocessing.Imputer.html) to replace all missing values. You might also try a more complicated procedure where you temporarily remove missing values in order to compute the scaling parameters before re-introducing those missing values and applying imputation. Think about how much missing data you have and what possible effects each approach might have on your analysis, and justify your decision in the discussion section below.\n",
    "- For the actual scaling function, a [StandardScaler](http://scikit-learn.org/stable/modules/generated/sklearn.preprocessing.StandardScaler.html) instance is suggested, scaling each feature to mean 0 and standard deviation 1.\n",
    "- For these classes, you can make use of the `.fit_transform()` method to both fit a procedure to the data as well as apply the transformation to the data at the same time. Don't forget to keep the fit sklearn objects handy, since you'll be applying them to the customer demographics data towards the end of the project."
   ]
  },
  {
   "cell_type": "code",
   "execution_count": 25,
   "metadata": {},
   "outputs": [],
   "source": [
    "# If you've not yet cleaned the dataset of all NaN values, then investigate and\n",
    "# do that now.\n",
    "from sklearn.preprocessing import StandardScaler, Imputer\n",
    "\n",
    "fill_missing = Imputer(strategy='most_frequent')\n",
    "missing_less_clean_imputed = pd.DataFrame(fill_missing.fit_transform(missing_less_clean))\n"
   ]
  },
  {
   "cell_type": "code",
   "execution_count": 26,
   "metadata": {},
   "outputs": [
    {
     "data": {
      "text/plain": [
       "0"
      ]
     },
     "execution_count": 26,
     "metadata": {},
     "output_type": "execute_result"
    }
   ],
   "source": [
    "missing_less_clean_imputed.columns = missing_less_clean.columns\n",
    "missing_less_clean_imputed.index = missing_less_clean.index\n",
    "\n",
    "missing_less_clean_imputed.isnull().sum().sum()"
   ]
  },
  {
   "cell_type": "code",
   "execution_count": 27,
   "metadata": {},
   "outputs": [],
   "source": [
    "# Apply feature scaling to the general population demographics data.\n",
    "scaler =StandardScaler()\n",
    "features_scaled=scaler.fit_transform(missing_less_clean_imputed)\n",
    "features_scaled=pd.DataFrame(features_scaled,columns=missing_less_clean_imputed.columns.tolist())\n"
   ]
  },
  {
   "cell_type": "code",
   "execution_count": 28,
   "metadata": {},
   "outputs": [
    {
     "data": {
      "text/html": [
       "<div>\n",
       "<style scoped>\n",
       "    .dataframe tbody tr th:only-of-type {\n",
       "        vertical-align: middle;\n",
       "    }\n",
       "\n",
       "    .dataframe tbody tr th {\n",
       "        vertical-align: top;\n",
       "    }\n",
       "\n",
       "    .dataframe thead th {\n",
       "        text-align: right;\n",
       "    }\n",
       "</style>\n",
       "<table border=\"1\" class=\"dataframe\">\n",
       "  <thead>\n",
       "    <tr style=\"text-align: right;\">\n",
       "      <th></th>\n",
       "      <th>ALTERSKATEGORIE_GROB</th>\n",
       "      <th>ANREDE_KZ</th>\n",
       "      <th>FINANZ_MINIMALIST</th>\n",
       "      <th>FINANZ_SPARER</th>\n",
       "      <th>FINANZ_VORSORGER</th>\n",
       "      <th>FINANZ_ANLEGER</th>\n",
       "      <th>FINANZ_UNAUFFAELLIGER</th>\n",
       "      <th>FINANZ_HAUSBAUER</th>\n",
       "      <th>GREEN_AVANTGARDE</th>\n",
       "      <th>HEALTH_TYP</th>\n",
       "      <th>...</th>\n",
       "      <th>PLZ8_ANTG4</th>\n",
       "      <th>PLZ8_HHZ</th>\n",
       "      <th>PLZ8_GBZ</th>\n",
       "      <th>ARBEIT</th>\n",
       "      <th>ORTSGR_KLS9</th>\n",
       "      <th>RELAT_AB</th>\n",
       "      <th>DECADE</th>\n",
       "      <th>MOVEMENT</th>\n",
       "      <th>WEALTH</th>\n",
       "      <th>LIFE_STAGE</th>\n",
       "    </tr>\n",
       "  </thead>\n",
       "  <tbody>\n",
       "    <tr>\n",
       "      <th>0</th>\n",
       "      <td>-1.766334</td>\n",
       "      <td>0.958071</td>\n",
       "      <td>-1.494609</td>\n",
       "      <td>1.538200</td>\n",
       "      <td>-1.040726</td>\n",
       "      <td>1.466448</td>\n",
       "      <td>0.959677</td>\n",
       "      <td>1.338816</td>\n",
       "      <td>-0.530567</td>\n",
       "      <td>1.010368</td>\n",
       "      <td>...</td>\n",
       "      <td>0.441766</td>\n",
       "      <td>1.455006</td>\n",
       "      <td>0.573846</td>\n",
       "      <td>-0.171603</td>\n",
       "      <td>-0.127145</td>\n",
       "      <td>0.684744</td>\n",
       "      <td>1.098531</td>\n",
       "      <td>0.530567</td>\n",
       "      <td>1.175734</td>\n",
       "      <td>-1.249157</td>\n",
       "    </tr>\n",
       "    <tr>\n",
       "      <th>1</th>\n",
       "      <td>0.200589</td>\n",
       "      <td>0.958071</td>\n",
       "      <td>-1.494609</td>\n",
       "      <td>0.864824</td>\n",
       "      <td>-1.766955</td>\n",
       "      <td>-0.570799</td>\n",
       "      <td>0.244962</td>\n",
       "      <td>1.338816</td>\n",
       "      <td>1.884775</td>\n",
       "      <td>1.010368</td>\n",
       "      <td>...</td>\n",
       "      <td>-0.935489</td>\n",
       "      <td>0.419154</td>\n",
       "      <td>0.573846</td>\n",
       "      <td>-0.171603</td>\n",
       "      <td>-0.127145</td>\n",
       "      <td>-0.789154</td>\n",
       "      <td>1.098531</td>\n",
       "      <td>-1.884775</td>\n",
       "      <td>-0.869674</td>\n",
       "      <td>0.766845</td>\n",
       "    </tr>\n",
       "    <tr>\n",
       "      <th>2</th>\n",
       "      <td>1.184051</td>\n",
       "      <td>0.958071</td>\n",
       "      <td>0.683150</td>\n",
       "      <td>-0.481928</td>\n",
       "      <td>1.137960</td>\n",
       "      <td>-0.570799</td>\n",
       "      <td>-1.184467</td>\n",
       "      <td>-0.792034</td>\n",
       "      <td>-0.530567</td>\n",
       "      <td>-0.311674</td>\n",
       "      <td>...</td>\n",
       "      <td>-0.935489</td>\n",
       "      <td>-0.616697</td>\n",
       "      <td>0.573846</td>\n",
       "      <td>-1.173369</td>\n",
       "      <td>-0.997689</td>\n",
       "      <td>-0.052205</td>\n",
       "      <td>-0.267356</td>\n",
       "      <td>0.530567</td>\n",
       "      <td>-1.551476</td>\n",
       "      <td>-0.577156</td>\n",
       "    </tr>\n",
       "    <tr>\n",
       "      <th>3</th>\n",
       "      <td>0.200589</td>\n",
       "      <td>-1.043765</td>\n",
       "      <td>0.683150</td>\n",
       "      <td>0.191448</td>\n",
       "      <td>0.411731</td>\n",
       "      <td>-1.249881</td>\n",
       "      <td>0.244962</td>\n",
       "      <td>-0.792034</td>\n",
       "      <td>-0.530567</td>\n",
       "      <td>1.010368</td>\n",
       "      <td>...</td>\n",
       "      <td>0.441766</td>\n",
       "      <td>-0.616697</td>\n",
       "      <td>-0.337337</td>\n",
       "      <td>0.830164</td>\n",
       "      <td>0.308127</td>\n",
       "      <td>1.421694</td>\n",
       "      <td>-0.267356</td>\n",
       "      <td>0.530567</td>\n",
       "      <td>0.493932</td>\n",
       "      <td>0.094845</td>\n",
       "    </tr>\n",
       "    <tr>\n",
       "      <th>4</th>\n",
       "      <td>-1.766334</td>\n",
       "      <td>0.958071</td>\n",
       "      <td>-0.042770</td>\n",
       "      <td>-1.155304</td>\n",
       "      <td>1.137960</td>\n",
       "      <td>-0.570799</td>\n",
       "      <td>-0.469752</td>\n",
       "      <td>1.338816</td>\n",
       "      <td>-0.530567</td>\n",
       "      <td>1.010368</td>\n",
       "      <td>...</td>\n",
       "      <td>0.441766</td>\n",
       "      <td>1.455006</td>\n",
       "      <td>1.485029</td>\n",
       "      <td>-1.173369</td>\n",
       "      <td>-0.997689</td>\n",
       "      <td>-0.052205</td>\n",
       "      <td>-1.633243</td>\n",
       "      <td>0.530567</td>\n",
       "      <td>1.175734</td>\n",
       "      <td>0.766845</td>\n",
       "    </tr>\n",
       "  </tbody>\n",
       "</table>\n",
       "<p>5 rows × 63 columns</p>\n",
       "</div>"
      ],
      "text/plain": [
       "   ALTERSKATEGORIE_GROB  ANREDE_KZ  FINANZ_MINIMALIST  FINANZ_SPARER  \\\n",
       "0             -1.766334   0.958071          -1.494609       1.538200   \n",
       "1              0.200589   0.958071          -1.494609       0.864824   \n",
       "2              1.184051   0.958071           0.683150      -0.481928   \n",
       "3              0.200589  -1.043765           0.683150       0.191448   \n",
       "4             -1.766334   0.958071          -0.042770      -1.155304   \n",
       "\n",
       "   FINANZ_VORSORGER  FINANZ_ANLEGER  FINANZ_UNAUFFAELLIGER  FINANZ_HAUSBAUER  \\\n",
       "0         -1.040726        1.466448               0.959677          1.338816   \n",
       "1         -1.766955       -0.570799               0.244962          1.338816   \n",
       "2          1.137960       -0.570799              -1.184467         -0.792034   \n",
       "3          0.411731       -1.249881               0.244962         -0.792034   \n",
       "4          1.137960       -0.570799              -0.469752          1.338816   \n",
       "\n",
       "   GREEN_AVANTGARDE  HEALTH_TYP     ...      PLZ8_ANTG4  PLZ8_HHZ  PLZ8_GBZ  \\\n",
       "0         -0.530567    1.010368     ...        0.441766  1.455006  0.573846   \n",
       "1          1.884775    1.010368     ...       -0.935489  0.419154  0.573846   \n",
       "2         -0.530567   -0.311674     ...       -0.935489 -0.616697  0.573846   \n",
       "3         -0.530567    1.010368     ...        0.441766 -0.616697 -0.337337   \n",
       "4         -0.530567    1.010368     ...        0.441766  1.455006  1.485029   \n",
       "\n",
       "     ARBEIT  ORTSGR_KLS9  RELAT_AB    DECADE  MOVEMENT    WEALTH  LIFE_STAGE  \n",
       "0 -0.171603    -0.127145  0.684744  1.098531  0.530567  1.175734   -1.249157  \n",
       "1 -0.171603    -0.127145 -0.789154  1.098531 -1.884775 -0.869674    0.766845  \n",
       "2 -1.173369    -0.997689 -0.052205 -0.267356  0.530567 -1.551476   -0.577156  \n",
       "3  0.830164     0.308127  1.421694 -0.267356  0.530567  0.493932    0.094845  \n",
       "4 -1.173369    -0.997689 -0.052205 -1.633243  0.530567  1.175734    0.766845  \n",
       "\n",
       "[5 rows x 63 columns]"
      ]
     },
     "execution_count": 28,
     "metadata": {},
     "output_type": "execute_result"
    }
   ],
   "source": [
    "features_scaled.head()"
   ]
  },
  {
   "cell_type": "markdown",
   "metadata": {},
   "source": [
    "### Discussion 2.1: Apply Feature Scaling\n",
    "\n",
    "I used Imputer method to replace all missing values with the most frequent value in each column. Then, I used  StandardScaler  to sacle all of the features values. "
   ]
  },
  {
   "cell_type": "markdown",
   "metadata": {},
   "source": [
    "### Step 2.2: Perform Dimensionality Reduction\n",
    "\n",
    "On your scaled data, you are now ready to apply dimensionality reduction techniques.\n",
    "\n",
    "- Use sklearn's [PCA](http://scikit-learn.org/stable/modules/generated/sklearn.decomposition.PCA.html) class to apply principal component analysis on the data, thus finding the vectors of maximal variance in the data. To start, you should not set any parameters (so all components are computed) or set a number of components that is at least half the number of features (so there's enough features to see the general trend in variability).\n",
    "- Check out the ratio of variance explained by each principal component as well as the cumulative variance explained. Try plotting the cumulative or sequential values using matplotlib's [`plot()`](https://matplotlib.org/api/_as_gen/matplotlib.pyplot.plot.html) function. Based on what you find, select a value for the number of transformed features you'll retain for the clustering part of the project.\n",
    "- Once you've made a choice for the number of components to keep, make sure you re-fit a PCA instance to perform the decided-on transformation."
   ]
  },
  {
   "cell_type": "code",
   "execution_count": 29,
   "metadata": {},
   "outputs": [
    {
     "data": {
      "text/plain": [
       "PCA(copy=True, iterated_power='auto', n_components=None, random_state=None,\n",
       "  svd_solver='auto', tol=0.0, whiten=False)"
      ]
     },
     "execution_count": 29,
     "metadata": {},
     "output_type": "execute_result"
    }
   ],
   "source": [
    "# Apply PCA to the data.\n",
    "from sklearn.decomposition import PCA\n",
    "pca = PCA()\n",
    "pca.fit(features_scaled)\n"
   ]
  },
  {
   "cell_type": "code",
   "execution_count": 30,
   "metadata": {},
   "outputs": [
    {
     "data": {
      "image/png": "[encoded data removed]",
      "text/plain": [
       "<matplotlib.figure.Figure at 0x7fa445272dd8>"
      ]
     },
     "metadata": {
      "needs_background": "light"
     },
     "output_type": "display_data"
    }
   ],
   "source": [
    "# Investigate the variance accounted for by each principal component.\n",
    "num_components=np.arange(len(pca.explained_variance_ratio_))\n",
    "values=pca.explained_variance_ratio_\n",
    "plt.bar(num_components,values)\n",
    "plt.xlabel(\"Principal component\")\n",
    "plt.ylabel(\"Ratio of variance explained (%)\")\n",
    "plt.title(\"Explained variance per principal component\")\n",
    "plt.show()\n"
   ]
  },
  {
   "cell_type": "code",
   "execution_count": 31,
   "metadata": {},
   "outputs": [
    {
     "data": {
      "image/png": "[encoded data removed]",
      "text/plain": [
       "<matplotlib.figure.Figure at 0x7fa4452728d0>"
      ]
     },
     "metadata": {
      "needs_background": "light"
     },
     "output_type": "display_data"
    }
   ],
   "source": [
    "cum_vals = np.cumsum(values)\n",
    "plt.plot(num_components,cum_vals)\n",
    "plt.xlabel(\"Principal component\")\n",
    "plt.ylabel(\"Ratio of variance explained (%)\")\n",
    "plt.title(\"Cumulative explained variance per principal component\")\n",
    "plt.show()"
   ]
  },
  {
   "cell_type": "code",
   "execution_count": 32,
   "metadata": {},
   "outputs": [],
   "source": [
    "# Re-apply PCA to the data while selecting for number of components to retain.\n",
    "\n",
    "pca_30 = PCA(n_components=30)\n",
    "features_scaled_PCA = pca_30.fit_transform(features_scaled)"
   ]
  },
  {
   "cell_type": "markdown",
   "metadata": {},
   "source": [
    "### Discussion 2.2: Perform Dimensionality Reduction\n",
    "\n",
    "I retained 30 of principal components. That is because at this number, we will get more than 85% of cumulative variances of data."
   ]
  },
  {
   "cell_type": "markdown",
   "metadata": {},
   "source": [
    "### Step 2.3: Interpret Principal Components\n",
    "\n",
    "Now that we have our transformed principal components, it's a nice idea to check out the weight of each variable on the first few components to see if they can be interpreted in some fashion.\n",
    "\n",
    "As a reminder, each principal component is a unit vector that points in the direction of highest variance (after accounting for the variance captured by earlier principal components). The further a weight is from zero, the more the principal component is in the direction of the corresponding feature. If two features have large weights of the same sign (both positive or both negative), then increases in one tend expect to be associated with increases in the other. To contrast, features with different signs can be expected to show a negative correlation: increases in one variable should result in a decrease in the other.\n",
    "\n",
    "- To investigate the features, you should map each weight to their corresponding feature name, then sort the features according to weight. The most interesting features for each principal component, then, will be those at the beginning and end of the sorted list. Use the data dictionary document to help you understand these most prominent features, their relationships, and what a positive or negative value on the principal component might indicate.\n",
    "- You should investigate and interpret feature associations from the first three principal components in this substep. To help facilitate this, you should write a function that you can call at any time to print the sorted list of feature weights, for the *i*-th principal component. This might come in handy in the next step of the project, when you interpret the tendencies of the discovered clusters."
   ]
  },
  {
   "cell_type": "code",
   "execution_count": 33,
   "metadata": {},
   "outputs": [],
   "source": [
    "# Map weights for the first principal component to corresponding feature names\n",
    "# and then print the linked values, sorted by weight.\n",
    "# HINT: Try defining a function here or in a new cell that you can reuse in the\n",
    "# other cells.\n",
    "def PCA_weights(df,pca,n):\n",
    "    weights_df=pd.DataFrame(pca.components_,columns=list(df.columns)).iloc[n]\n",
    "    weights_df.sort_values(ascending=False, inplace=True)\n",
    "    return weights_df\n"
   ]
  },
  {
   "cell_type": "code",
   "execution_count": 34,
   "metadata": {},
   "outputs": [
    {
     "data": {
      "text/plain": [
       "PLZ8_ANTG3               0.225113\n",
       "PLZ8_ANTG4               0.216707\n",
       "WEALTH                   0.204511\n",
       "HH_EINKOMMEN_SCORE       0.202140\n",
       "ORTSGR_KLS9              0.196389\n",
       "EWDICHTE                 0.194206\n",
       "FINANZ_HAUSBAUER         0.159226\n",
       "FINANZ_SPARER            0.153800\n",
       "KBA05_ANTG4              0.153789\n",
       "PLZ8_ANTG2               0.153456\n",
       "ARBEIT                   0.142393\n",
       "KBA05_ANTG3              0.136674\n",
       "ANZ_HAUSHALTE_AKTIV      0.135870\n",
       "RELAT_AB                 0.134715\n",
       "SEMIO_PFLICHT            0.121968\n",
       "SEMIO_REL                0.119497\n",
       "DECADE                   0.112947\n",
       "MOVEMENT                 0.110250\n",
       "SEMIO_RAT                0.100503\n",
       "SEMIO_TRADV              0.094804\n",
       "SEMIO_MAT                0.083795\n",
       "FINANZ_UNAUFFAELLIGER    0.081817\n",
       "SEMIO_FAM                0.081650\n",
       "SEMIO_KULT               0.076372\n",
       "FINANZ_ANLEGER           0.075766\n",
       "REGIOTYP                 0.060357\n",
       "OST_WEST_KZ              0.053795\n",
       "SEMIO_SOZ                0.043543\n",
       "PLZ8_HHZ                 0.042129\n",
       "HEALTH_TYP               0.040359\n",
       "                           ...   \n",
       "ANZ_HH_TITEL             0.033733\n",
       "SEMIO_DOM                0.023385\n",
       "KBA05_ANTG2              0.013655\n",
       "ANREDE_KZ                0.007430\n",
       "SEMIO_KRIT               0.003123\n",
       "SOHO_KZ                 -0.001984\n",
       "ANZ_TITEL               -0.004319\n",
       "RETOURTYP_BK_S          -0.022449\n",
       "SEMIO_VERT              -0.040193\n",
       "ONLINE_AFFINITAET       -0.040689\n",
       "MIN_GEBAEUDEJAHR        -0.043043\n",
       "WOHNDAUER_2008          -0.061557\n",
       "KBA13_ANZAHL_PKW        -0.073953\n",
       "SEMIO_LUST              -0.077607\n",
       "ANZ_PERSONEN            -0.077978\n",
       "SEMIO_ERL               -0.080935\n",
       "GREEN_AVANTGARDE        -0.110250\n",
       "GEBAEUDETYP_RASTER      -0.117066\n",
       "FINANZ_VORSORGER        -0.121072\n",
       "LIFE_STAGE              -0.125241\n",
       "ALTERSKATEGORIE_GROB    -0.126375\n",
       "BALLRAUM                -0.127074\n",
       "INNENSTADT              -0.164341\n",
       "PLZ8_GBZ                -0.166271\n",
       "KONSUMNAEHE             -0.167153\n",
       "KBA05_ANTG1             -0.214458\n",
       "KBA05_GBZ               -0.215865\n",
       "FINANZ_MINIMALIST       -0.223368\n",
       "MOBI_REGIO              -0.224858\n",
       "PLZ8_ANTG1              -0.225470\n",
       "Name: 0, Length: 63, dtype: float64"
      ]
     },
     "execution_count": 34,
     "metadata": {},
     "output_type": "execute_result"
    }
   ],
   "source": [
    "PCA_weights(features_scaled,pca_30,0)\n"
   ]
  },
  {
   "cell_type": "code",
   "execution_count": 35,
   "metadata": {},
   "outputs": [
    {
     "data": {
      "text/plain": [
       "ALTERSKATEGORIE_GROB     0.256059\n",
       "SEMIO_ERL                0.229831\n",
       "FINANZ_VORSORGER         0.228709\n",
       "SEMIO_LUST               0.179836\n",
       "RETOURTYP_BK_S           0.161748\n",
       "FINANZ_HAUSBAUER         0.122589\n",
       "SEMIO_KRIT               0.117781\n",
       "SEMIO_KAEM               0.116840\n",
       "W_KEIT_KIND_HH           0.114899\n",
       "PLZ8_ANTG3               0.099529\n",
       "EWDICHTE                 0.098558\n",
       "ORTSGR_KLS9              0.097340\n",
       "PLZ8_ANTG4               0.097230\n",
       "ANREDE_KZ                0.093649\n",
       "WEALTH                   0.080225\n",
       "KBA05_ANTG4              0.075926\n",
       "SEMIO_DOM                0.074545\n",
       "ARBEIT                   0.072484\n",
       "RELAT_AB                 0.069845\n",
       "PLZ8_ANTG2               0.068854\n",
       "ANZ_HAUSHALTE_AKTIV      0.067085\n",
       "HH_EINKOMMEN_SCORE       0.062834\n",
       "FINANZ_MINIMALIST        0.058392\n",
       "WOHNDAUER_2008           0.058138\n",
       "KBA05_ANTG3              0.051234\n",
       "ANZ_HH_TITEL             0.032219\n",
       "OST_WEST_KZ              0.027990\n",
       "MOVEMENT                 0.018985\n",
       "PLZ8_HHZ                 0.015944\n",
       "REGIOTYP                 0.012242\n",
       "                           ...   \n",
       "LIFE_STAGE              -0.001857\n",
       "SOHO_KZ                 -0.001967\n",
       "GREEN_AVANTGARDE        -0.018985\n",
       "KBA13_ANZAHL_PKW        -0.038282\n",
       "GEBAEUDETYP_RASTER      -0.047756\n",
       "MIN_GEBAEUDEJAHR        -0.048934\n",
       "HEALTH_TYP              -0.058068\n",
       "ANZ_PERSONEN            -0.064707\n",
       "BALLRAUM                -0.065188\n",
       "SEMIO_VERT              -0.072942\n",
       "KONSUMNAEHE             -0.075477\n",
       "KBA05_ANTG1             -0.075703\n",
       "PLZ8_GBZ                -0.076079\n",
       "INNENSTADT              -0.080312\n",
       "MOBI_REGIO              -0.082216\n",
       "KBA05_GBZ               -0.093460\n",
       "PLZ8_ANTG1              -0.097498\n",
       "SEMIO_SOZ               -0.103381\n",
       "SEMIO_MAT               -0.160457\n",
       "ONLINE_AFFINITAET       -0.165617\n",
       "SEMIO_RAT               -0.166174\n",
       "SEMIO_FAM               -0.184098\n",
       "FINANZ_ANLEGER          -0.202498\n",
       "SEMIO_KULT              -0.219550\n",
       "SEMIO_PFLICHT           -0.225028\n",
       "FINANZ_UNAUFFAELLIGER   -0.225325\n",
       "SEMIO_TRADV             -0.227671\n",
       "FINANZ_SPARER           -0.231265\n",
       "DECADE                  -0.238408\n",
       "SEMIO_REL               -0.253286\n",
       "Name: 1, Length: 63, dtype: float64"
      ]
     },
     "execution_count": 35,
     "metadata": {},
     "output_type": "execute_result"
    }
   ],
   "source": [
    "# Map weights for the second principal component to corresponding feature names\n",
    "# and then print the linked values, sorted by weight.\n",
    "\n",
    "PCA_weights(features_scaled,pca_30,1)"
   ]
  },
  {
   "cell_type": "code",
   "execution_count": 36,
   "metadata": {},
   "outputs": [
    {
     "data": {
      "text/plain": [
       "SEMIO_VERT               0.344671\n",
       "SEMIO_SOZ                0.261865\n",
       "SEMIO_FAM                0.248853\n",
       "SEMIO_KULT               0.233800\n",
       "FINANZ_MINIMALIST        0.154520\n",
       "RETOURTYP_BK_S           0.109157\n",
       "FINANZ_VORSORGER         0.101783\n",
       "W_KEIT_KIND_HH           0.085207\n",
       "ALTERSKATEGORIE_GROB     0.079814\n",
       "SEMIO_REL                0.067751\n",
       "SEMIO_LUST               0.064629\n",
       "SEMIO_MAT                0.055680\n",
       "ORTSGR_KLS9              0.050286\n",
       "EWDICHTE                 0.049491\n",
       "PLZ8_ANTG4               0.049148\n",
       "PLZ8_ANTG3               0.048480\n",
       "GREEN_AVANTGARDE         0.047077\n",
       "ARBEIT                   0.037333\n",
       "RELAT_AB                 0.034344\n",
       "PLZ8_ANTG2               0.032707\n",
       "WOHNDAUER_2008           0.032599\n",
       "WEALTH                   0.030201\n",
       "KBA05_ANTG4              0.029982\n",
       "ANZ_HAUSHALTE_AKTIV      0.026809\n",
       "OST_WEST_KZ              0.016315\n",
       "ANZ_HH_TITEL             0.013931\n",
       "KBA05_ANTG3              0.011848\n",
       "ANZ_TITEL                0.009710\n",
       "PLZ8_HHZ                 0.005566\n",
       "SOHO_KZ                  0.000173\n",
       "                           ...   \n",
       "ANZ_PERSONEN            -0.010752\n",
       "KKK                     -0.015511\n",
       "HH_EINKOMMEN_SCORE      -0.016497\n",
       "MIN_GEBAEUDEJAHR        -0.017997\n",
       "KBA05_ANTG1             -0.022283\n",
       "KBA13_ANZAHL_PKW        -0.023801\n",
       "MOBI_REGIO              -0.026992\n",
       "KBA05_GBZ               -0.029062\n",
       "GEBAEUDETYP_RASTER      -0.032138\n",
       "HEALTH_TYP              -0.033970\n",
       "BALLRAUM                -0.037257\n",
       "FINANZ_HAUSBAUER        -0.039794\n",
       "KONSUMNAEHE             -0.040461\n",
       "PLZ8_GBZ                -0.040605\n",
       "INNENSTADT              -0.045764\n",
       "MOVEMENT                -0.047077\n",
       "PLZ8_ANTG1              -0.049461\n",
       "ONLINE_AFFINITAET       -0.055786\n",
       "SEMIO_TRADV             -0.079454\n",
       "SEMIO_PFLICHT           -0.080179\n",
       "FINANZ_UNAUFFAELLIGER   -0.101107\n",
       "FINANZ_SPARER           -0.107264\n",
       "DECADE                  -0.111769\n",
       "SEMIO_ERL               -0.175172\n",
       "FINANZ_ANLEGER          -0.191035\n",
       "SEMIO_RAT               -0.217751\n",
       "SEMIO_KRIT              -0.275067\n",
       "SEMIO_DOM               -0.313037\n",
       "SEMIO_KAEM              -0.335029\n",
       "ANREDE_KZ               -0.367298\n",
       "Name: 2, Length: 63, dtype: float64"
      ]
     },
     "execution_count": 36,
     "metadata": {},
     "output_type": "execute_result"
    }
   ],
   "source": [
    "# Map weights for the third principal component to corresponding feature names\n",
    "# and then print the linked values, sorted by weight.\n",
    "PCA_weights(features_scaled,pca_30,2)\n"
   ]
  },
  {
   "cell_type": "markdown",
   "metadata": {},
   "source": [
    "### Discussion 2.3: Interpret Principal Components\n",
    "\n",
    "1) For the first principal component:\n",
    "- Here are some of the posetives components:\n",
    "1. PLZ8_ANTG3(Number of 6-10 family houses in the PLZ8 region)\n",
    "2. WEALTH(Households wealth)\n",
    "3. HH_EINKOMMEN_SCORE (Estimated household net income)\n",
    "\n",
    "- Here are some of the negatives components\n",
    "1. FINANZ_MINIMALIST(Financial typology:low financial interest)\n",
    "2. MOBI_REGIO(Movement patterns)\n",
    "3. PLZ8_ANTG1(Number of 1-2 family houses in the PLZ8 region)\n",
    "4. KBA05_GBZ(Number of buildings in the microcell)\n",
    "\n",
    "So from that I can say the first component has a strong relationship with a number of  family, income,  wealth, Financial typology, Movement and buildings.\n",
    "\n",
    "Furthermore, the following points are observed:\n",
    "- A positive correlation is observed for PLZ8_ANTG3 and PLZ8_ANTG4, in which both share of 10+ family homes and the share of 6-10 family homes for macro-cells are tending  to increase together. Moreover, PLZ8_ANTG3 and WEALTH has also a positive correlation. This means that with the increase of 6-10 family homes in a macro-cell, poor households tends to increase.\n",
    "-  A negative correlation is observed for MOBI_REGIO and PLZ8_ANTG3 that means with increase in share of 6-10 family in a macro-cell, lower movmement is shown.  \n",
    "\n",
    "2) For the second principal component:\n",
    "- Here are some of the posetives components:\n",
    "1. ALTERSKATEGORIE_GROB(Estimated age based on given name analysis)\n",
    "2. FINANZ_VORSORGER(Financial typology:be prepared)\n",
    "3. SEMIO_ERL(Personality typology:event-oriented)\n",
    "\n",
    "- Here are some of the negatives components\n",
    "1. DECADE(generation)\n",
    "2. FINANZ_SPARER(Financial typology:money-saver)\n",
    "3. FINANZ_UNAUFFAELLIGER(Financial typology:inconspicuous)\n",
    "4. SEMIO_REL(Personality typology:religious)\n",
    "\n",
    "\n",
    "So from that I can say the second component has a strong relationship with a number of age, Financial typology, Personality typology, decade and energy consumption.\n",
    "\n",
    "\n",
    "2) For the third principal component:\n",
    "- Here are some of the posetives components:\n",
    "1. SEMIO_VERT(Personality typology:dreamful)\n",
    "2. SEMIO_FAM (Personality typology:family-minded)\n",
    "3. SEMIO_SOZ (Personality typology:socially-minded)\n",
    "\n",
    "- Here are some of the negatives components\n",
    "1. ANREDE_KZ(Gender:femal,male)\n",
    "2. SEMIO_KAEM (Personality typology:combative attitude)\n",
    "3. SEMIO_DOM (Personality typology:dominant-minded)\n",
    "4. SEMIO_KRIT (Personality typology:critical-minded)\n",
    "5. SEMIO_ERL (Personality typology:event-oriented)\n",
    "\n",
    "\n",
    "So from that I can say the second component has a strong relationship with  Personality typology and gender.\n"
   ]
  },
  {
   "cell_type": "markdown",
   "metadata": {},
   "source": [
    "## Step 3: Clustering\n",
    "\n",
    "### Step 3.1: Apply Clustering to General Population\n",
    "\n",
    "You've assessed and cleaned the demographics data, then scaled and transformed them. Now, it's time to see how the data clusters in the principal components space. In this substep, you will apply k-means clustering to the dataset and use the average within-cluster distances from each point to their assigned cluster's centroid to decide on a number of clusters to keep.\n",
    "\n",
    "- Use sklearn's [KMeans](http://scikit-learn.org/stable/modules/generated/sklearn.cluster.KMeans.html#sklearn.cluster.KMeans) class to perform k-means clustering on the PCA-transformed data.\n",
    "- Then, compute the average difference from each point to its assigned cluster's center. **Hint**: The KMeans object's `.score()` method might be useful here, but note that in sklearn, scores tend to be defined so that larger is better. Try applying it to a small, toy dataset, or use an internet search to help your understanding.\n",
    "- Perform the above two steps for a number of different cluster counts. You can then see how the average distance decreases with an increasing number of clusters. However, each additional cluster provides a smaller net benefit. Use this fact to select a final number of clusters in which to group the data. **Warning**: because of the large size of the dataset, it can take a long time for the algorithm to resolve. The more clusters to fit, the longer the algorithm will take. You should test for cluster counts through at least 10 clusters to get the full picture, but you shouldn't need to test for a number of clusters above about 30.\n",
    "- Once you've selected a final number of clusters to use, re-fit a KMeans instance to perform the clustering operation. Make sure that you also obtain the cluster assignments for the general demographics data, since you'll be using them in the final Step 3.3."
   ]
  },
  {
   "cell_type": "code",
   "execution_count": 37,
   "metadata": {},
   "outputs": [],
   "source": [
    "from sklearn.cluster import KMeans\n",
    "from sklearn.cluster import MiniBatchKMeans"
   ]
  },
  {
   "cell_type": "code",
   "execution_count": 38,
   "metadata": {},
   "outputs": [],
   "source": [
    "# Over a number of different cluster counts...\n",
    "# run k-means clustering on the data and...\n",
    "num_clusters=np.arange(1,10)\n",
    "scores=[]\n",
    "for k in num_clusters:\n",
    "    kmeans = MiniBatchKMeans(n_clusters=k)\n",
    "    model = kmeans.fit(features_scaled_PCA)\n",
    "    # compute the average within-cluster distances.\n",
    "    score = np.abs(model.score(features_scaled_PCA))\n",
    "    scores.append(score)"
   ]
  },
  {
   "cell_type": "code",
   "execution_count": 39,
   "metadata": {},
   "outputs": [
    {
     "data": {
      "text/plain": [
       "array([1, 2, 3, 4, 5, 6, 7, 8, 9])"
      ]
     },
     "execution_count": 39,
     "metadata": {},
     "output_type": "execute_result"
    }
   ],
   "source": [
    "num_clusters"
   ]
  },
  {
   "cell_type": "code",
   "execution_count": 40,
   "metadata": {},
   "outputs": [
    {
     "data": {
      "image/png": "[encoded data removed]",
      "text/plain": [
       "<matplotlib.figure.Figure at 0x7fa44efb6d30>"
      ]
     },
     "metadata": {
      "needs_background": "light"
     },
     "output_type": "display_data"
    }
   ],
   "source": [
    "plt.plot(num_clusters,scores,marker='o',linestyle='--')\n",
    "plt.xlabel('Clusters number (K)')\n",
    "plt.ylabel('Score')\n",
    "plt.title(\"Relationship between K and Score\")\n",
    "plt.show()"
   ]
  },
  {
   "cell_type": "code",
   "execution_count": 50,
   "metadata": {},
   "outputs": [],
   "source": [
    "# Re-fit the k-means model with the selected number of clusters and obtain\n",
    "# cluster predictions for the general population demographics data.\n",
    "\n",
    "\n",
    "kmeans = KMeans(n_clusters=6)\n",
    "model=kmeans.fit(features_scaled_PCA)\n",
    "data_pred=model.predict(features_scaled_PCA)"
   ]
  },
  {
   "cell_type": "markdown",
   "metadata": {},
   "source": [
    "### Discussion 3.1: Apply Clustering to General Population\n",
    "\n",
    "From the figure shown above and according to elbow method, I decided to segment the population with 6 clusters. That is because the score values are starting to decrease after 6 clusters."
   ]
  },
  {
   "cell_type": "markdown",
   "metadata": {},
   "source": [
    "### Step 3.2: Apply All Steps to the Customer Data\n",
    "\n",
    "Now that you have clusters and cluster centers for the general population, it's time to see how the customer data maps on to those clusters. Take care to not confuse this for re-fitting all of the models to the customer data. Instead, you're going to use the fits from the general population to clean, transform, and cluster the customer data. In the last step of the project, you will interpret how the general population fits apply to the customer data.\n",
    "\n",
    "- Don't forget when loading in the customers data, that it is semicolon (`;`) delimited.\n",
    "- Apply the same feature wrangling, selection, and engineering steps to the customer demographics using the `clean_data()` function you created earlier. (You can assume that the customer demographics data has similar meaning behind missing data patterns as the general demographics data.)\n",
    "- Use the sklearn objects from the general demographics data, and apply their transformations to the customers data. That is, you should not be using a `.fit()` or `.fit_transform()` method to re-fit the old objects, nor should you be creating new sklearn objects! Carry the data through the feature scaling, PCA, and clustering steps, obtaining cluster assignments for all of the data in the customer demographics data."
   ]
  },
  {
   "cell_type": "code",
   "execution_count": 44,
   "metadata": {},
   "outputs": [],
   "source": [
    "# Load in the customer demographics data.\n",
    "customers = pd.read_csv('Udacity_CUSTOMERS_Subset.csv', sep=';')"
   ]
  },
  {
   "cell_type": "code",
   "execution_count": 45,
   "metadata": {},
   "outputs": [
    {
     "data": {
      "text/html": [
       "<div>\n",
       "<style scoped>\n",
       "    .dataframe tbody tr th:only-of-type {\n",
       "        vertical-align: middle;\n",
       "    }\n",
       "\n",
       "    .dataframe tbody tr th {\n",
       "        vertical-align: top;\n",
       "    }\n",
       "\n",
       "    .dataframe thead th {\n",
       "        text-align: right;\n",
       "    }\n",
       "</style>\n",
       "<table border=\"1\" class=\"dataframe\">\n",
       "  <thead>\n",
       "    <tr style=\"text-align: right;\">\n",
       "      <th></th>\n",
       "      <th>AGER_TYP</th>\n",
       "      <th>ALTERSKATEGORIE_GROB</th>\n",
       "      <th>ANREDE_KZ</th>\n",
       "      <th>CJT_GESAMTTYP</th>\n",
       "      <th>FINANZ_MINIMALIST</th>\n",
       "      <th>FINANZ_SPARER</th>\n",
       "      <th>FINANZ_VORSORGER</th>\n",
       "      <th>FINANZ_ANLEGER</th>\n",
       "      <th>FINANZ_UNAUFFAELLIGER</th>\n",
       "      <th>FINANZ_HAUSBAUER</th>\n",
       "      <th>...</th>\n",
       "      <th>PLZ8_ANTG1</th>\n",
       "      <th>PLZ8_ANTG2</th>\n",
       "      <th>PLZ8_ANTG3</th>\n",
       "      <th>PLZ8_ANTG4</th>\n",
       "      <th>PLZ8_BAUMAX</th>\n",
       "      <th>PLZ8_HHZ</th>\n",
       "      <th>PLZ8_GBZ</th>\n",
       "      <th>ARBEIT</th>\n",
       "      <th>ORTSGR_KLS9</th>\n",
       "      <th>RELAT_AB</th>\n",
       "    </tr>\n",
       "  </thead>\n",
       "  <tbody>\n",
       "    <tr>\n",
       "      <th>0</th>\n",
       "      <td>2</td>\n",
       "      <td>4</td>\n",
       "      <td>1</td>\n",
       "      <td>5.0</td>\n",
       "      <td>5</td>\n",
       "      <td>1</td>\n",
       "      <td>5</td>\n",
       "      <td>1</td>\n",
       "      <td>2</td>\n",
       "      <td>2</td>\n",
       "      <td>...</td>\n",
       "      <td>3.0</td>\n",
       "      <td>3.0</td>\n",
       "      <td>1.0</td>\n",
       "      <td>0.0</td>\n",
       "      <td>1.0</td>\n",
       "      <td>5.0</td>\n",
       "      <td>5.0</td>\n",
       "      <td>1.0</td>\n",
       "      <td>2.0</td>\n",
       "      <td>1.0</td>\n",
       "    </tr>\n",
       "    <tr>\n",
       "      <th>1</th>\n",
       "      <td>-1</td>\n",
       "      <td>4</td>\n",
       "      <td>1</td>\n",
       "      <td>NaN</td>\n",
       "      <td>5</td>\n",
       "      <td>1</td>\n",
       "      <td>5</td>\n",
       "      <td>1</td>\n",
       "      <td>3</td>\n",
       "      <td>2</td>\n",
       "      <td>...</td>\n",
       "      <td>NaN</td>\n",
       "      <td>NaN</td>\n",
       "      <td>NaN</td>\n",
       "      <td>NaN</td>\n",
       "      <td>NaN</td>\n",
       "      <td>NaN</td>\n",
       "      <td>NaN</td>\n",
       "      <td>NaN</td>\n",
       "      <td>NaN</td>\n",
       "      <td>NaN</td>\n",
       "    </tr>\n",
       "    <tr>\n",
       "      <th>2</th>\n",
       "      <td>-1</td>\n",
       "      <td>4</td>\n",
       "      <td>2</td>\n",
       "      <td>2.0</td>\n",
       "      <td>5</td>\n",
       "      <td>1</td>\n",
       "      <td>5</td>\n",
       "      <td>1</td>\n",
       "      <td>4</td>\n",
       "      <td>4</td>\n",
       "      <td>...</td>\n",
       "      <td>2.0</td>\n",
       "      <td>3.0</td>\n",
       "      <td>3.0</td>\n",
       "      <td>1.0</td>\n",
       "      <td>3.0</td>\n",
       "      <td>3.0</td>\n",
       "      <td>2.0</td>\n",
       "      <td>3.0</td>\n",
       "      <td>5.0</td>\n",
       "      <td>3.0</td>\n",
       "    </tr>\n",
       "    <tr>\n",
       "      <th>3</th>\n",
       "      <td>1</td>\n",
       "      <td>4</td>\n",
       "      <td>1</td>\n",
       "      <td>2.0</td>\n",
       "      <td>5</td>\n",
       "      <td>1</td>\n",
       "      <td>5</td>\n",
       "      <td>2</td>\n",
       "      <td>1</td>\n",
       "      <td>2</td>\n",
       "      <td>...</td>\n",
       "      <td>3.0</td>\n",
       "      <td>2.0</td>\n",
       "      <td>1.0</td>\n",
       "      <td>0.0</td>\n",
       "      <td>1.0</td>\n",
       "      <td>3.0</td>\n",
       "      <td>4.0</td>\n",
       "      <td>1.0</td>\n",
       "      <td>3.0</td>\n",
       "      <td>1.0</td>\n",
       "    </tr>\n",
       "    <tr>\n",
       "      <th>4</th>\n",
       "      <td>-1</td>\n",
       "      <td>3</td>\n",
       "      <td>1</td>\n",
       "      <td>6.0</td>\n",
       "      <td>3</td>\n",
       "      <td>1</td>\n",
       "      <td>4</td>\n",
       "      <td>4</td>\n",
       "      <td>5</td>\n",
       "      <td>2</td>\n",
       "      <td>...</td>\n",
       "      <td>2.0</td>\n",
       "      <td>4.0</td>\n",
       "      <td>2.0</td>\n",
       "      <td>1.0</td>\n",
       "      <td>2.0</td>\n",
       "      <td>3.0</td>\n",
       "      <td>3.0</td>\n",
       "      <td>3.0</td>\n",
       "      <td>5.0</td>\n",
       "      <td>1.0</td>\n",
       "    </tr>\n",
       "  </tbody>\n",
       "</table>\n",
       "<p>5 rows × 85 columns</p>\n",
       "</div>"
      ],
      "text/plain": [
       "   AGER_TYP  ALTERSKATEGORIE_GROB  ANREDE_KZ  CJT_GESAMTTYP  \\\n",
       "0         2                     4          1            5.0   \n",
       "1        -1                     4          1            NaN   \n",
       "2        -1                     4          2            2.0   \n",
       "3         1                     4          1            2.0   \n",
       "4        -1                     3          1            6.0   \n",
       "\n",
       "   FINANZ_MINIMALIST  FINANZ_SPARER  FINANZ_VORSORGER  FINANZ_ANLEGER  \\\n",
       "0                  5              1                 5               1   \n",
       "1                  5              1                 5               1   \n",
       "2                  5              1                 5               1   \n",
       "3                  5              1                 5               2   \n",
       "4                  3              1                 4               4   \n",
       "\n",
       "   FINANZ_UNAUFFAELLIGER  FINANZ_HAUSBAUER    ...     PLZ8_ANTG1  PLZ8_ANTG2  \\\n",
       "0                      2                 2    ...            3.0         3.0   \n",
       "1                      3                 2    ...            NaN         NaN   \n",
       "2                      4                 4    ...            2.0         3.0   \n",
       "3                      1                 2    ...            3.0         2.0   \n",
       "4                      5                 2    ...            2.0         4.0   \n",
       "\n",
       "   PLZ8_ANTG3  PLZ8_ANTG4  PLZ8_BAUMAX  PLZ8_HHZ  PLZ8_GBZ  ARBEIT  \\\n",
       "0         1.0         0.0          1.0       5.0       5.0     1.0   \n",
       "1         NaN         NaN          NaN       NaN       NaN     NaN   \n",
       "2         3.0         1.0          3.0       3.0       2.0     3.0   \n",
       "3         1.0         0.0          1.0       3.0       4.0     1.0   \n",
       "4         2.0         1.0          2.0       3.0       3.0     3.0   \n",
       "\n",
       "   ORTSGR_KLS9  RELAT_AB  \n",
       "0          2.0       1.0  \n",
       "1          NaN       NaN  \n",
       "2          5.0       3.0  \n",
       "3          3.0       1.0  \n",
       "4          5.0       1.0  \n",
       "\n",
       "[5 rows x 85 columns]"
      ]
     },
     "execution_count": 45,
     "metadata": {},
     "output_type": "execute_result"
    }
   ],
   "source": [
    "customers.head()"
   ]
  },
  {
   "cell_type": "code",
   "execution_count": 46,
   "metadata": {},
   "outputs": [],
   "source": [
    "# Apply preprocessing, feature transformation, and clustering from the general\n",
    "# demographics onto the customer data, obtaining cluster predictions for the\n",
    "# customer demographics data.\n",
    "customers_clean= clean_data(customers)"
   ]
  },
  {
   "cell_type": "code",
   "execution_count": 47,
   "metadata": {},
   "outputs": [],
   "source": [
    "# Replace NaN values \n",
    "customers_clean_imputed = pd.DataFrame(fill_missing.fit_transform(customers_clean))\n",
    "customers_clean_imputed.columns = customers_clean.columns\n",
    "customers_clean_imputed.index = customers_clean.index\n",
    "# scaling the values\n",
    "customers_clean_scaled = scaler.transform(customers_clean_imputed)\n",
    "customers_clean_scaled = pd.DataFrame(customers_clean_scaled, columns=list(customers_clean_imputed))\n"
   ]
  },
  {
   "cell_type": "code",
   "execution_count": 48,
   "metadata": {},
   "outputs": [],
   "source": [
    "# Performing PCA transformation\n",
    "customers_pca = pca_30.transform(customers_clean_scaled)\n",
    "#predication using kemeans model\n",
    "customers_pred = model.predict(customers_pca)"
   ]
  },
  {
   "cell_type": "markdown",
   "metadata": {},
   "source": [
    "### Step 3.3: Compare Customer Data to Demographics Data\n",
    "\n",
    "At this point, you have clustered data based on demographics of the general population of Germany, and seen how the customer data for a mail-order sales company maps onto those demographic clusters. In this final substep, you will compare the two cluster distributions to see where the strongest customer base for the company is.\n",
    "\n",
    "Consider the proportion of persons in each cluster for the general population, and the proportions for the customers. If we think the company's customer base to be universal, then the cluster assignment proportions should be fairly similar between the two. If there are only particular segments of the population that are interested in the company's products, then we should see a mismatch from one to the other. If there is a higher proportion of persons in a cluster for the customer data compared to the general population (e.g. 5% of persons are assigned to a cluster for the general population, but 15% of the customer data is closest to that cluster's centroid) then that suggests the people in that cluster to be a target audience for the company. On the other hand, the proportion of the data in a cluster being larger in the general population than the customer data (e.g. only 2% of customers closest to a population centroid that captures 6% of the data) suggests that group of persons to be outside of the target demographics.\n",
    "\n",
    "Take a look at the following points in this step:\n",
    "\n",
    "- Compute the proportion of data points in each cluster for the general population and the customer data. Visualizations will be useful here: both for the individual dataset proportions, but also to visualize the ratios in cluster representation between groups. Seaborn's [`countplot()`](https://seaborn.pydata.org/generated/seaborn.countplot.html) or [`barplot()`](https://seaborn.pydata.org/generated/seaborn.barplot.html) function could be handy.\n",
    "  - Recall the analysis you performed in step 1.1.3 of the project, where you separated out certain data points from the dataset if they had more than a specified threshold of missing values. If you found that this group was qualitatively different from the main bulk of the data, you should treat this as an additional data cluster in this analysis. Make sure that you account for the number of data points in this subset, for both the general population and customer datasets, when making your computations!\n",
    "- Which cluster or clusters are overrepresented in the customer dataset compared to the general population? Select at least one such cluster and infer what kind of people might be represented by that cluster. Use the principal component interpretations from step 2.3 or look at additional components to help you make this inference. Alternatively, you can use the `.inverse_transform()` method of the PCA and StandardScaler objects to transform centroids back to the original data space and interpret the retrieved values directly.\n",
    "- Perform a similar investigation for the underrepresented clusters. Which cluster or clusters are underrepresented in the customer dataset compared to the general population, and what kinds of people are typified by these clusters?"
   ]
  },
  {
   "cell_type": "code",
   "execution_count": 51,
   "metadata": {},
   "outputs": [
    {
     "data": {
      "text/plain": [
       "Text(0.5,1,'General Population Clusters')"
      ]
     },
     "execution_count": 51,
     "metadata": {},
     "output_type": "execute_result"
    },
    {
     "data": {
      "image/png": "[encoded data removed]",
      "text/plain": [
       "<matplotlib.figure.Figure at 0x7fa442543240>"
      ]
     },
     "metadata": {
      "needs_background": "light"
     },
     "output_type": "display_data"
    }
   ],
   "source": [
    "# Compare the proportion of data in each cluster for the customer data to the\n",
    "# proportion of data in each cluster for the general population.\n",
    "\n",
    "figure, axs = plt.subplots(nrows=1, ncols=2, figsize = (10,5))\n",
    "figure.subplots_adjust(hspace = 1, wspace=.3)\n",
    "\n",
    "sns.countplot(customers_pred, ax=axs[0])\n",
    "axs[0].set_title('Customer Clusters')\n",
    "sns.countplot(data_pred, ax=axs[1])\n",
    "axs[1].set_title('General Population Clusters')"
   ]
  },
  {
   "cell_type": "code",
   "execution_count": 52,
   "metadata": {},
   "outputs": [],
   "source": [
    "# What kinds of people are part of a cluster that is overrepresented in the\n",
    "# customer data compared to the general population?\n",
    "C_2 = scaler.inverse_transform(pca_30.inverse_transform(model.cluster_centers_[2]))\n",
    "overrepresented = pd.Series(data = C_2, index = customers_clean.columns)\n"
   ]
  },
  {
   "cell_type": "code",
   "execution_count": 53,
   "metadata": {},
   "outputs": [
    {
     "data": {
      "text/plain": [
       "ALTERSKATEGORIE_GROB        1.712570\n",
       "ANREDE_KZ                   2.006960\n",
       "FINANZ_MINIMALIST           1.298770\n",
       "FINANZ_SPARER               4.243208\n",
       "FINANZ_VORSORGER            2.241114\n",
       "FINANZ_ANLEGER              4.166893\n",
       "FINANZ_UNAUFFAELLIGER       3.746901\n",
       "FINANZ_HAUSBAUER            4.035272\n",
       "GREEN_AVANTGARDE            0.060470\n",
       "HEALTH_TYP                  2.348042\n",
       "RETOURTYP_BK_S              2.637014\n",
       "SEMIO_SOZ                   3.083276\n",
       "SEMIO_FAM                   3.881447\n",
       "SEMIO_REL                   5.321309\n",
       "SEMIO_MAT                   4.908572\n",
       "SEMIO_VERT                  2.216572\n",
       "SEMIO_LUST                  3.190289\n",
       "SEMIO_ERL                   4.357339\n",
       "SEMIO_KULT                  4.035553\n",
       "SEMIO_RAT                   6.107849\n",
       "SEMIO_KRIT                  5.536766\n",
       "SEMIO_DOM                   6.151342\n",
       "SEMIO_KAEM                  6.067124\n",
       "SEMIO_PFLICHT               6.167512\n",
       "SEMIO_TRADV                 5.490058\n",
       "SOHO_KZ                     0.008191\n",
       "ANZ_PERSONEN                1.499145\n",
       "ANZ_TITEL                   0.002147\n",
       "HH_EINKOMMEN_SCORE          5.418269\n",
       "W_KEIT_KIND_HH              4.153736\n",
       "                            ...     \n",
       "KONSUMNAEHE                 2.264770\n",
       "MIN_GEBAEUDEJAHR         1992.677625\n",
       "OST_WEST_KZ                 0.229898\n",
       "KBA05_ANTG1                 0.591245\n",
       "KBA05_ANTG2                 1.388907\n",
       "KBA05_ANTG3                 1.034632\n",
       "KBA05_ANTG4                 0.502537\n",
       "KBA05_GBZ                   2.398979\n",
       "BALLRAUM                    3.392574\n",
       "EWDICHTE                    4.904776\n",
       "INNENSTADT                  3.645437\n",
       "GEBAEUDETYP_RASTER          3.479423\n",
       "KKK                         2.793815\n",
       "MOBI_REGIO                  1.985928\n",
       "ONLINE_AFFINITAET           2.991393\n",
       "REGIOTYP                    4.872256\n",
       "KBA13_ANZAHL_PKW          571.892884\n",
       "PLZ8_ANTG1                  1.676654\n",
       "PLZ8_ANTG2                  3.225527\n",
       "PLZ8_ANTG3                  2.210645\n",
       "PLZ8_ANTG4                  1.094397\n",
       "PLZ8_HHZ                    3.760005\n",
       "PLZ8_GBZ                    2.946642\n",
       "ARBEIT                      3.555568\n",
       "ORTSGR_KLS9                 6.563419\n",
       "RELAT_AB                    3.605580\n",
       "DECADE                      5.676824\n",
       "MOVEMENT                    0.939530\n",
       "WEALTH                      4.096341\n",
       "LIFE_STAGE                  2.250326\n",
       "Length: 63, dtype: float64"
      ]
     },
     "execution_count": 53,
     "metadata": {},
     "output_type": "execute_result"
    }
   ],
   "source": [
    "overrepresented"
   ]
  },
  {
   "cell_type": "code",
   "execution_count": 58,
   "metadata": {},
   "outputs": [],
   "source": [
    "# What kinds of people are part of a cluster that is underrepresented in the\n",
    "# customer data compared to the general population?\n",
    "C_1 = scaler.inverse_transform(pca_30.inverse_transform(model.cluster_centers_[1]))\n",
    "underrepresented = pd.Series(data = C_1, index = customers_clean.columns)\n"
   ]
  },
  {
   "cell_type": "code",
   "execution_count": 59,
   "metadata": {},
   "outputs": [
    {
     "data": {
      "text/plain": [
       "ALTERSKATEGORIE_GROB        2.674735\n",
       "ANREDE_KZ                   1.007380\n",
       "FINANZ_MINIMALIST           2.676430\n",
       "FINANZ_SPARER               3.081074\n",
       "FINANZ_VORSORGER            3.206849\n",
       "FINANZ_ANLEGER              2.485085\n",
       "FINANZ_UNAUFFAELLIGER       2.655186\n",
       "FINANZ_HAUSBAUER            3.537975\n",
       "GREEN_AVANTGARDE            0.104105\n",
       "HEALTH_TYP                  2.468957\n",
       "RETOURTYP_BK_S              3.756657\n",
       "SEMIO_SOZ                   5.694232\n",
       "SEMIO_FAM                   5.894600\n",
       "SEMIO_REL                   4.920754\n",
       "SEMIO_MAT                   4.652063\n",
       "SEMIO_VERT                  5.879483\n",
       "SEMIO_LUST                  4.067685\n",
       "SEMIO_ERL                   3.358258\n",
       "SEMIO_KULT                  5.841919\n",
       "SEMIO_RAT                   3.317177\n",
       "SEMIO_KRIT                  3.343365\n",
       "SEMIO_DOM                   3.239099\n",
       "SEMIO_KAEM                  2.798107\n",
       "SEMIO_PFLICHT               4.351265\n",
       "SEMIO_TRADV                 3.731786\n",
       "SOHO_KZ                     0.007556\n",
       "ANZ_PERSONEN                1.391411\n",
       "ANZ_TITEL                   0.004599\n",
       "HH_EINKOMMEN_SCORE          5.413520\n",
       "W_KEIT_KIND_HH              4.753419\n",
       "                            ...     \n",
       "KONSUMNAEHE                 2.073014\n",
       "MIN_GEBAEUDEJAHR         1992.575354\n",
       "OST_WEST_KZ                 0.288302\n",
       "KBA05_ANTG1                 0.334872\n",
       "KBA05_ANTG2                 1.234004\n",
       "KBA05_ANTG3                 1.128316\n",
       "KBA05_ANTG4                 0.640493\n",
       "KBA05_GBZ                   2.126549\n",
       "BALLRAUM                    3.133333\n",
       "EWDICHTE                    5.167327\n",
       "INNENSTADT                  3.309539\n",
       "GEBAEUDETYP_RASTER          3.331267\n",
       "KKK                         2.866279\n",
       "MOBI_REGIO                  1.691108\n",
       "ONLINE_AFFINITAET           2.333262\n",
       "REGIOTYP                    4.935743\n",
       "KBA13_ANZAHL_PKW          526.605852\n",
       "PLZ8_ANTG1                  1.444883\n",
       "PLZ8_ANTG2                  3.321640\n",
       "PLZ8_ANTG3                  2.416491\n",
       "PLZ8_ANTG4                  1.270778\n",
       "PLZ8_HHZ                    3.733881\n",
       "PLZ8_GBZ                    2.679060\n",
       "ARBEIT                      3.688674\n",
       "ORTSGR_KLS9                 6.964454\n",
       "RELAT_AB                    3.743113\n",
       "DECADE                      4.576317\n",
       "MOVEMENT                    0.895895\n",
       "WEALTH                      4.398407\n",
       "LIFE_STAGE                  2.096630\n",
       "Length: 63, dtype: float64"
      ]
     },
     "execution_count": 59,
     "metadata": {},
     "output_type": "execute_result"
    }
   ],
   "source": [
    "underrepresented"
   ]
  },
  {
   "cell_type": "markdown",
   "metadata": {},
   "source": [
    "### Discussion 3.3: Compare Customer Data to Demographics Data\n",
    "\n",
    "\n",
    "From the analysis performed above:\n",
    "\n",
    "We can say that cluster number 2 is overrepresented in the customers data in comparision to the general population data. Here are some characteristics of the segment of population that are relatively popular with the mail-order company:\n",
    "\n",
    "1) At areas where the share of 6-10 family homes is lower, PLZ8_ANTG3=2.210645\n",
    "\n",
    "2) At prosperous or Comfortable households, WEALTH=4.096341\n",
    "\n",
    "We can also say that cluster number 1 is underrepresented in the customers data in comparision to the general population data. Here are some characteristics of the segment of the population that are relatively unpopular with the mail-order company:\n",
    "\n",
    "\n",
    "1) At areas where the share of 6-10 family homes is higher, PLZ8_ANTG3=2.416491\n",
    "\n",
    "2) At Less Affluent or Poorer households, WEALTH= 4.398407\n"
   ]
  },
  {
   "cell_type": "markdown",
   "metadata": {},
   "source": [
    "> Congratulations on making it this far in the project! Before you finish, make sure to check through the entire notebook from top to bottom to make sure that your analysis follows a logical flow and all of your findings are documented in **Discussion** cells. Once you've checked over all of your work, you should export the notebook as an HTML document to submit for evaluation. You can do this from the menu, navigating to **File -> Download as -> HTML (.html)**. You will submit both that document and this notebook for your project submission."
   ]
  },
  {
   "cell_type": "code",
   "execution_count": null,
   "metadata": {},
   "outputs": [],
   "source": []
  }
 ],
 "metadata": {
  "kernelspec": {
   "display_name": "Python 3",
   "language": "python",
   "name": "python3"
  },
  "language_info": {
   "codemirror_mode": {
    "name": "ipython",
    "version": 3
   },
   "file_extension": ".py",
   "mimetype": "text/x-python",
   "name": "python",
   "nbconvert_exporter": "python",
   "pygments_lexer": "ipython3",
   "version": "3.6.3"
  }
 },
 "nbformat": 4,
 "nbformat_minor": 2
}
